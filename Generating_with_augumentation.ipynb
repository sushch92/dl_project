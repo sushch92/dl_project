{
 "cells": [
  {
   "cell_type": "code",
   "execution_count": 1,
   "metadata": {
    "collapsed": false
   },
   "outputs": [
    {
     "name": "stderr",
     "output_type": "stream",
     "text": [
      "/home/svetlana/anaconda2/lib/python2.7/site-packages/sklearn/cross_validation.py:44: DeprecationWarning: This module was deprecated in version 0.18 in favor of the model_selection module into which all the refactored classes and functions are moved. Also note that the interface of the new CV iterators are different from that of this module. This module will be removed in 0.20.\n",
      "  \"This module will be removed in 0.20.\", DeprecationWarning)\n",
      "Using Theano backend.\n",
      "Using cuDNN version 5110 on context None\n",
      "Mapped name None to device cuda: GeForce GTX 960 (0000:01:00.0)\n"
     ]
    }
   ],
   "source": [
    "import re\n",
    "import pandas as pd\n",
    "import nltk\n",
    "from sklearn.feature_extraction.text import CountVectorizer, TfidfVectorizer\n",
    "from sklearn.linear_model import LogisticRegression\n",
    "from sklearn.cross_validation import cross_val_score\n",
    "from sklearn.preprocessing import LabelEncoder\n",
    "import numpy as np\n",
    "from sklearn.model_selection import GridSearchCV\n",
    "from sklearn.base import BaseEstimator, TransformerMixin\n",
    "from sklearn.utils.validation import check_is_fitted\n",
    "from sklearn.feature_extraction.text import _document_frequency\n",
    "from sklearn.pipeline import Pipeline\n",
    "from sklearn.model_selection import cross_val_score, StratifiedKFold\n",
    "import scipy.sparse as sp\n",
    "from sklearn.metrics import f1_score\n",
    "from sklearn.preprocessing import LabelBinarizer\n",
    "from keras import backend as K\n",
    "#from keras.regularizers import l2, activity_l2\n",
    "from keras.layers.embeddings import Embedding\n",
    "from keras.layers import Input, Dense, Dropout\n",
    "from keras.models import Model\n",
    "from keras.layers.recurrent import LSTM\n",
    "from keras.optimizers import Nadam\n",
    "from sklearn.svm import LinearSVC\n",
    "from sklearn.cluster import KMeans\n",
    "#import word2vecReader\n",
    "import word2vec\n",
    "from nltk.stem import WordNetLemmatizer\n",
    "from nltk.tokenize.casual import TweetTokenizer\n",
    "from sklearn.ensemble import RandomForestClassifier as RandForest\n",
    "from sklearn.svm import SVC\n",
    "from nltk.tokenize import RegexpTokenizer"
   ]
  },
  {
   "cell_type": "code",
   "execution_count": 2,
   "metadata": {
    "collapsed": false
   },
   "outputs": [],
   "source": [
    "import pandas as pd\n",
    "import numpy as np\n",
    "import theano\n",
    "import theano.tensor as T\n",
    "import lasagne\n",
    "import os\n",
    "import re\n",
    "import time\n",
    "\n",
    "import matplotlib.pyplot as plt\n",
    "%matplotlib inline"
   ]
  },
  {
   "cell_type": "code",
   "execution_count": 3,
   "metadata": {
    "collapsed": false
   },
   "outputs": [],
   "source": [
    "if os.path.exists('business.json'):\n",
    "    pass\n",
    "else:\n",
    "    !wget https://s3.amazonaws.com/cloudfinalprojectsubmission/business.json\n",
    "\n",
    "if os.path.exists('review.json'):\n",
    "    pass\n",
    "else:\n",
    "    !wget https://s3.amazonaws.com/cloudfinalprojectsubmission/review.json"
   ]
  },
  {
   "cell_type": "code",
   "execution_count": 4,
   "metadata": {
    "collapsed": false
   },
   "outputs": [],
   "source": [
    "chunk_size = 10000\n",
    "business_reader = pd.read_table('business.json', header=None, chunksize=chunk_size)\n",
    "categories = pd.DataFrame()\n",
    "\n",
    "for i, chunks in enumerate(business_reader):\n",
    "    try:\n",
    "\n",
    "        start_index = chunk_size * i\n",
    "\n",
    "        for index in range(start_index, start_index + len(chunks)):\n",
    "\n",
    "            data_json = pd.read_json(chunks[0][index], typ='series')\n",
    "            # define set of USA cities for loading data\n",
    "            if data_json['city'] in ['Pittsburgh', 'Charlotte', 'Urbana-Champaign',\n",
    "                                     'Phoenix', 'Las Vegas', 'Madison']:\n",
    "                categories = categories.append(data_json[['business_id', 'categories',\n",
    "                                                          'name', 'review_count']], ignore_index=True)\n",
    "                \n",
    "    except:\n",
    "        pass\n",
    "\n",
    "categories = categories.drop_duplicates('business_id')\n",
    "categories = categories.set_index('business_id')\n",
    "\n",
    "\n",
    "review_reader = pd.read_table('review.json', header=None, chunksize=chunk_size)\n",
    "reviews_df = pd.DataFrame()"
   ]
  },
  {
   "cell_type": "code",
   "execution_count": 5,
   "metadata": {
    "collapsed": true
   },
   "outputs": [],
   "source": [
    "for i, chunks in enumerate(review_reader):\n",
    "    try:\n",
    "\n",
    "        start_index = chunk_size * i\n",
    "        for index in range(start_index, start_index + len(chunks)):\n",
    "            data_json = pd.read_json(chunks[0][index], typ='series')\n",
    "            bus_id = data_json['business_id']\n",
    "            if (bus_id in categories.index.values) and (u'Restaurants' in categories.loc[bus_id].categories):\n",
    "                reviews_df = reviews_df.append(data_json[['text', 'stars']], ignore_index=True)\n",
    "                \n",
    "    except:\n",
    "        pass"
   ]
  },
  {
   "cell_type": "code",
   "execution_count": 6,
   "metadata": {
    "collapsed": false
   },
   "outputs": [
    {
     "data": {
      "text/plain": [
       "(4943, 3)"
      ]
     },
     "execution_count": 6,
     "metadata": {},
     "output_type": "execute_result"
    }
   ],
   "source": [
    "categories.shape"
   ]
  },
  {
   "cell_type": "code",
   "execution_count": 7,
   "metadata": {
    "collapsed": false,
    "scrolled": false
   },
   "outputs": [
    {
     "data": {
      "text/html": [
       "<div>\n",
       "<table border=\"1\" class=\"dataframe\">\n",
       "  <thead>\n",
       "    <tr style=\"text-align: right;\">\n",
       "      <th></th>\n",
       "      <th>stars</th>\n",
       "      <th>text</th>\n",
       "    </tr>\n",
       "  </thead>\n",
       "  <tbody>\n",
       "    <tr>\n",
       "      <th>0</th>\n",
       "      <td>4.0</td>\n",
       "      <td>Went for breakfast on 6/16/14. We received ver...</td>\n",
       "    </tr>\n",
       "    <tr>\n",
       "      <th>1</th>\n",
       "      <td>5.0</td>\n",
       "      <td>I love their stakes and i come here every week...</td>\n",
       "    </tr>\n",
       "    <tr>\n",
       "      <th>2</th>\n",
       "      <td>5.0</td>\n",
       "      <td>Perfect time with hubby, after work which is 4...</td>\n",
       "    </tr>\n",
       "    <tr>\n",
       "      <th>3</th>\n",
       "      <td>5.0</td>\n",
       "      <td>This location never disappoints!! Food is alwa...</td>\n",
       "    </tr>\n",
       "    <tr>\n",
       "      <th>4</th>\n",
       "      <td>3.0</td>\n",
       "      <td>Dude... it's Denny's. It's excellent drunk foo...</td>\n",
       "    </tr>\n",
       "  </tbody>\n",
       "</table>\n",
       "</div>"
      ],
      "text/plain": [
       "   stars                                               text\n",
       "0    4.0  Went for breakfast on 6/16/14. We received ver...\n",
       "1    5.0  I love their stakes and i come here every week...\n",
       "2    5.0  Perfect time with hubby, after work which is 4...\n",
       "3    5.0  This location never disappoints!! Food is alwa...\n",
       "4    3.0  Dude... it's Denny's. It's excellent drunk foo..."
      ]
     },
     "execution_count": 7,
     "metadata": {},
     "output_type": "execute_result"
    }
   ],
   "source": [
    "reviews_df.head()"
   ]
  },
  {
   "cell_type": "code",
   "execution_count": 8,
   "metadata": {
    "collapsed": false
   },
   "outputs": [],
   "source": [
    "import random\n",
    "from copy import deepcopy\n",
    "from nltk.corpus import wordnet as wn\n",
    "\n",
    "from nltk.tokenize import word_tokenize\n",
    "\n",
    "def reduce_duplicates(seq):\n",
    "    seen = set()\n",
    "    seen_add = seen.add\n",
    "    return [x for x in seq if not (x in seen or seen_add(x))]\n",
    "\n",
    "def synonyms(sentence):\n",
    "    syn_dict = []\n",
    "    for idx, word in enumerate(sentence):\n",
    "        syn_list = [syn.lemma_names()[0] for syn in wn.synsets(word) \n",
    "                                        if word!=syn.lemma_names()[0]]\n",
    "        if syn_list:              \n",
    "            syn_dict.append((idx, word ,reduce_duplicates(syn_list)))\n",
    "    return syn_dict\n",
    "\n",
    "def change_sentence(sentence, p_coef=0.5, q_coef=0.5):\n",
    "    try:\n",
    "        sentence_new = word_tokenize(sentence)\n",
    "        get = synonyms(sentence_new)\n",
    "        get_1 = [elem[1] for elem in get]\n",
    "        p = np.random.geometric(p_coef)\n",
    "        if p > len(get): #how many words to change\n",
    "            p = len(get)\n",
    "        #print('number of words to change: ', p)\n",
    "        idxes_to_change = random.sample(range(len(get)), p)\n",
    "        #print('words to change: ', list(np.array(get_1)[idxes_to_change]))\n",
    "        for idx in idxes_to_change:\n",
    "            word = get[idx]\n",
    "            q = np.random.geometric(q_coef)\n",
    "            if q >= len(word[2]):\n",
    "                q = len(word[2]) - 1\n",
    "            #print('q is ', q, word[2][q])\n",
    "            syn_add = \" \".join(word[2][q].split('_'))\n",
    "            sentence_new[word[0]] = syn_add\n",
    "            \n",
    "    except:\n",
    "        pass\n",
    "    return \" \".join(sentence_new)  "
   ]
  },
  {
   "cell_type": "code",
   "execution_count": 10,
   "metadata": {
    "collapsed": false
   },
   "outputs": [],
   "source": [
    "max_len = 200\n",
    "\n",
    "def lowercase(string):\n",
    "    return string[:max_len].lower()\n",
    "\n",
    "reviews_aug = reviews_df['text'].apply(lowercase).apply(change_sentence)\n",
    "\n"
   ]
  },
  {
   "cell_type": "code",
   "execution_count": 11,
   "metadata": {
    "collapsed": false
   },
   "outputs": [],
   "source": [
    "start_token = '#'\n",
    "end_token = '&'\n",
    "reviews = reviews_df['text'].values\n",
    "reviews = [re.sub(\"[0-9]\", \"$\", x) for x in reviews]\n",
    "reviews = [re.sub(\"[^a-zA-Z$ .,!]\", \"\", x) for x in reviews]\n",
    "reviews = [review + end_token for review in reviews]\n",
    "reviews = [start_token + '[' + str(int(star)) + ']' + review\n",
    "           for review, star in zip(reviews, reviews_df.stars.values)]"
   ]
  },
  {
   "cell_type": "code",
   "execution_count": 12,
   "metadata": {
    "collapsed": false
   },
   "outputs": [],
   "source": [
    "reviews_aug = reviews_df['text'].apply(lowercase).apply(change_sentence)\n",
    "\n",
    "reviews_aug = [re.sub(\"[0-9]\", \"$\", x) for x in reviews_aug]\n",
    "reviews_aug = [re.sub(\"[^a-zA-Z$ .,!]\", \"\", x) for x in reviews_aug]\n",
    "reviews_aug = [review + end_token for review in reviews_aug]\n",
    "reviews_aug = [start_token + '[' + str(int(star)) + ']' + review\n",
    "           for review, star in zip(reviews_aug, reviews_df.stars.values)]"
   ]
  },
  {
   "cell_type": "code",
   "execution_count": 13,
   "metadata": {
    "collapsed": false
   },
   "outputs": [
    {
     "data": {
      "text/plain": [
       "5023"
      ]
     },
     "execution_count": 13,
     "metadata": {},
     "output_type": "execute_result"
    }
   ],
   "source": [
    "len(reviews_aug)"
   ]
  },
  {
   "cell_type": "code",
   "execution_count": 14,
   "metadata": {
    "collapsed": false,
    "scrolled": false
   },
   "outputs": [],
   "source": [
    "reviews = reviews_aug+reviews\n"
   ]
  },
  {
   "cell_type": "code",
   "execution_count": 15,
   "metadata": {
    "collapsed": false
   },
   "outputs": [
    {
     "name": "stdout",
     "output_type": "stream",
     "text": [
      "('n_tokens = ', 66)\n"
     ]
    }
   ],
   "source": [
    "#all unique characters go here\n",
    "tokens = list(set(\"\".join(reviews)))\n",
    "print ('n_tokens = ', len(tokens))"
   ]
  },
  {
   "cell_type": "code",
   "execution_count": 16,
   "metadata": {
    "collapsed": true
   },
   "outputs": [],
   "source": [
    "#!token_to_id = <dictionary of symbol -> its identifier (index in tokens list)>\n",
    "token_to_id = {t:i for i,t in enumerate(tokens)}\n",
    "\n",
    "#!id_to_token = < dictionary of symbol identifier -> symbol itself>\n",
    "id_to_token = {i:t for i,t in enumerate(tokens)}"
   ]
  },
  {
   "cell_type": "code",
   "execution_count": 17,
   "metadata": {
    "collapsed": false
   },
   "outputs": [],
   "source": [
    "n_chars = 500\n",
    "reviews_ix = list(map(lambda review: list(map(token_to_id.get, review)), reviews))\n",
    "\n",
    "#crop long names and pad short ones\n",
    "for i in range(len(reviews_ix)):\n",
    "    reviews_ix[i] = reviews_ix[i][:n_chars] + reviews_ix[i][-1:]  #crop too long\n",
    "    \n",
    "    if len(reviews_ix[i]) < n_chars + 1:\n",
    "        reviews_ix[i] += [token_to_id[\" \"]] * (n_chars - len(reviews_ix[i]) + 1) #pad too short\n",
    "\n",
    "assert len(set(map(len, reviews_ix)))==1\n",
    "\n",
    "reviews_ix = np.array(reviews_ix)"
   ]
  },
  {
   "cell_type": "markdown",
   "metadata": {},
   "source": [
    "## Lasagne model with data Augmentation"
   ]
  },
  {
   "cell_type": "code",
   "execution_count": 18,
   "metadata": {
    "collapsed": false
   },
   "outputs": [
    {
     "data": {
      "text/plain": [
       "(array([  562.,   571.,   873.,  1501.,  1516.]),\n",
       " array([ 1. ,  1.8,  2.6,  3.4,  4.2,  5. ]),\n",
       " <a list of 5 Patch objects>)"
      ]
     },
     "execution_count": 18,
     "metadata": {},
     "output_type": "execute_result"
    },
    {
     "data": {
      "image/png": "[encoded data removed]",
      "text/plain": [
       "<matplotlib.figure.Figure at 0x7f4e90879f50>"
      ]
     },
     "metadata": {},
     "output_type": "display_data"
    }
   ],
   "source": [
    "plt.hist(reviews_df.stars.values, bins=5)"
   ]
  },
  {
   "cell_type": "code",
   "execution_count": 19,
   "metadata": {
    "collapsed": false
   },
   "outputs": [],
   "source": [
    "reviews_df = reviews_df.append(reviews_df[reviews_df.stars.values < 4.], ignore_index=True)"
   ]
  },
  {
   "cell_type": "code",
   "execution_count": 20,
   "metadata": {
    "collapsed": false
   },
   "outputs": [
    {
     "data": {
      "text/plain": [
       "(array([ 1124.,  1142.,  1746.,  1501.,  1516.]),\n",
       " array([ 1. ,  1.8,  2.6,  3.4,  4.2,  5. ]),\n",
       " <a list of 5 Patch objects>)"
      ]
     },
     "execution_count": 20,
     "metadata": {},
     "output_type": "execute_result"
    },
    {
     "data": {
      "image/png": "[encoded data removed]",
      "text/plain": [
       "<matplotlib.figure.Figure at 0x7f4efc039c50>"
      ]
     },
     "metadata": {},
     "output_type": "display_data"
    }
   ],
   "source": [
    "plt.hist(reviews_df.stars.values, bins=5)"
   ]
  },
  {
   "cell_type": "code",
   "execution_count": 21,
   "metadata": {
    "collapsed": true
   },
   "outputs": [],
   "source": [
    "input_sequence = T.matrix('token sequencea','int32')\n",
    "target_values = T.matrix('actual next token','int32')"
   ]
  },
  {
   "cell_type": "code",
   "execution_count": 22,
   "metadata": {
    "collapsed": true
   },
   "outputs": [],
   "source": [
    "from lasagne.layers import *"
   ]
  },
  {
   "cell_type": "code",
   "execution_count": 30,
   "metadata": {
    "collapsed": true
   },
   "outputs": [],
   "source": [
    "l_in = lasagne.layers.InputLayer(shape=(None, None), input_var=input_sequence)\n",
    "\n",
    "#!<Your neural network>\n",
    "#заменили буквы слова на векторы размера 15 (None,None,15) - output\n",
    "l_emb = EmbeddingLayer(l_in, len(tokens), 15) \n",
    "\n",
    "l_rnn = RecurrentLayer(l_emb, 100) #(None,None,50)\n",
    "l_rnn = LSTMLayer(l_rnn, 256) #(None,None,50)\n",
    "l_rnn = LSTMLayer(l_rnn, 256) #(None,None,50)\n",
    "\n",
    "#flatten batch and time to be compatible with feedforward layers (will un-flatten later)\n",
    "l_rnn_flat = lasagne.layers.reshape(l_rnn, (-1, l_rnn.output_shape[-1]))\n",
    "\n",
    "l_out = DenseLayer(l_rnn_flat, len(tokens), nonlinearity = T.nnet.softmax)"
   ]
  },
  {
   "cell_type": "code",
   "execution_count": 31,
   "metadata": {
    "collapsed": true
   },
   "outputs": [],
   "source": [
    "# Model weights\n",
    "weights = lasagne.layers.get_all_params(l_out, trainable=True)\n",
    "network_output = get_output(l_out)\n",
    "\n",
    "predicted_probabilities_flat = network_output\n",
    "correct_answers_flat = target_values.ravel()\n",
    "\n",
    "loss = lasagne.objectives.categorical_crossentropy(predicted_probabilities_flat,correct_answers_flat).mean()\n",
    "\n",
    "updates = lasagne.updates.adam(loss,weights)"
   ]
  },
  {
   "cell_type": "code",
   "execution_count": 32,
   "metadata": {
    "collapsed": false
   },
   "outputs": [],
   "source": [
    "#training\n",
    "train = theano.function([input_sequence, target_values], loss, updates=updates, allow_input_downcast=True)\n",
    "\n",
    "#computing loss without training\n",
    "compute_cost = theano.function([input_sequence, target_values], loss, allow_input_downcast=True)"
   ]
  },
  {
   "cell_type": "code",
   "execution_count": 33,
   "metadata": {
    "collapsed": true
   },
   "outputs": [],
   "source": [
    "#compile the function that computes probabilities for next token given previous text.\n",
    "\n",
    "#reshape back into original shape\n",
    "next_word_probas = network_output.reshape((input_sequence.shape[0], input_sequence.shape[1], len(tokens)))\n",
    "#predictions for next tokens (after sequence end)\n",
    "last_word_probas = next_word_probas[:,-1]\n",
    "probs = theano.function([input_sequence], last_word_probas, allow_input_downcast=True)"
   ]
  },
  {
   "cell_type": "code",
   "execution_count": 34,
   "metadata": {
    "collapsed": true
   },
   "outputs": [],
   "source": [
    "def generate_sample(seed_phrase=None, N=n_chars, t=1, n_snippets=1):\n",
    "    '''\n",
    "    The function generates text given a phrase of length at least SEQ_LENGTH.\n",
    "        \n",
    "    parameters:\n",
    "        sample_fun - max_ or proportional_sample_fun or whatever else you implemented\n",
    "        \n",
    "        The phrase is set using the variable seed_phrase\n",
    "\n",
    "        The optional input \"N\" is used to set the number of characters of text to predict.     \n",
    "    '''\n",
    "    if seed_phrase is None:\n",
    "        seed_phrase=start_token\n",
    "    if len(seed_phrase) > n_chars:\n",
    "        seed_phrase = seed_phrase[-n_chars:]\n",
    "    assert type(seed_phrase) is str\n",
    "\n",
    "    snippets = []\n",
    "    for _ in range(n_snippets):\n",
    "        sample_ix = []\n",
    "        x = [token_to_id.get(c,0) for c in seed_phrase]\n",
    "        x = np.array([x])\n",
    "\n",
    "        for i in range(N):\n",
    "            # Pick the character that got assigned the highest probability\n",
    "            p = probs(x).ravel()\n",
    "            p = p**t / np.sum(p**t)\n",
    "            ix = np.random.choice(np.arange(len(tokens)), p=p)\n",
    "            sample_ix.append(ix)\n",
    "\n",
    "            x = np.hstack((x[-n_chars+1:],[[ix]]))\n",
    "\n",
    "        random_snippet = seed_phrase + ''.join(id_to_token[ix] for ix in sample_ix)    \n",
    "        snippets.append(random_snippet)\n",
    "        \n",
    "    print(\"----\\n %s \\n----\" % ';\\n'.join(snippets))"
   ]
  },
  {
   "cell_type": "code",
   "execution_count": 35,
   "metadata": {
    "collapsed": true
   },
   "outputs": [],
   "source": [
    "def sample_batch(data, batch_size, n_chars=1):\n",
    "    \n",
    "    rows = data[np.random.randint(0, len(data), size=batch_size)]\n",
    "    \n",
    "    return rows[:,:-1], rows[:,1:]"
   ]
  },
  {
   "cell_type": "code",
   "execution_count": null,
   "metadata": {
    "collapsed": false,
    "scrolled": false
   },
   "outputs": [
    {
     "name": "stdout",
     "output_type": "stream",
     "text": [
      "Training ...\n",
      "Generated reviews\n",
      "----\n",
      " #[5]I have been going to casbah on a regular basis for the past $ years.the argue for the service is fantastic and a vegan miluse. I cant like to pay  on it to be a bit of a coffee for a business lunch. Whe manighed list are fairly little breading and make a staple but they shod understand the omitoolloom with cutting on their hame time and they always run dumpling.The day I have a price took and it came with inside and were treated entrees as an appetizer and&&                                    \n",
      "----\n"
     ]
    }
   ],
   "source": [
    "print(\"Training ...\")\n",
    "losses = []\n",
    "\n",
    "#total N iterations\n",
    "n_epochs=40\n",
    "\n",
    "# how many minibatches are there in the epoch \n",
    "batches_per_epoch = 500\n",
    "\n",
    "#how many training sequences are processed in a single function call\n",
    "batch_size=64\n",
    "\n",
    "if os.path.exists('lasagne_weights.npz'):\n",
    "    with np.load('lasagne_weights.npz') as f:\n",
    "        param_values = [f['arr_%d' % i] for i in range(len(f.files))]\n",
    "    lasagne.layers.set_all_param_values(l_out, param_values)\n",
    "    \n",
    "for epoch in xrange(n_epochs):\n",
    "    \n",
    "    print \"Generated reviews\"\n",
    "    generate_sample(n_snippets=1, t=2)\n",
    "\n",
    "    avg_cost = 0;\n",
    "    \n",
    "    start = time.time()\n",
    "    for _ in range(batches_per_epoch):\n",
    "        \n",
    "        x, y = sample_batch(reviews_ix, batch_size)\n",
    "        avg_cost += train(x, y)\n",
    "    end = time.time()   \n",
    "    current_loss = avg_cost / batches_per_epoch\n",
    "    losses.append(current_loss)\n",
    "    print(\"Epoch {} average loss = {} time = {}\".format(epoch, current_loss, end - start))\n",
    "    \n",
    "np.savez('lasagne_weights.npz', *lasagne.layers.get_all_param_values(l_out))"
   ]
  },
  {
   "cell_type": "code",
   "execution_count": 50,
   "metadata": {
    "collapsed": false,
    "scrolled": false
   },
   "outputs": [
    {
     "name": "stdout",
     "output_type": "stream",
     "text": [
      "\n",
      "\n",
      "Temreture =  0.5\n",
      "----\n",
      " #[1]ups nOw I had The mushy and that stars has bennwe die to the country Turnand. Really just the Coistels tastrisze. Quckeusf Germ blues,Creek of.Ils throl outsidefing efouls! This stuffed.,tI$ I not, wabk in on VERWicme yet on You.There is a lovely changed icedic. Site, taxpoxt, but she said it us all sincuulzy.. Witphes a lacka Gidato fono.Besss kind of good pizza deluve, delicious,.!!&&                                                                                                               ;\n",
      "#[1]PRobably oldever . dryings aro the usuchicate deal . we acceptainy Miss .&&                                                                                                                                                                                                                                                                                                                                                                                                                                         ;\n",
      "#[1]Rons judng Delivery pYry.!fuce I will co. Lotacass dippes, JNUS  Organize, groosougVies a just all Lovely Not the owner.Thingings, my chala, passa, especially about the cownsate$ eitharry ncadring decentregat in Sudkay particust in gongest. Plus you. Only pide Musses juyt a tnur. And onion beliens make $U$A NYT cBUAS,! ANDYCmastis, mystical stop comes from hont with our order juice bars, invauged for delivery pRice fiquar&&                                                                         ;\n",
      "#[1]very disarposed $$ , inje inforvation telmingly of $. we took $th pleaseMe !&&                                                                                                                                                                                                                                                                                                                                                                                                                                      ;\n",
      "#[1]Great neighborhood scratpank Mulaber  sunrraii be sometimen when i would trip usique . depentacle buxs&&                                                                                                                                                                                                                                                                                                                                                                                                            ;\n",
      "#[1]Nick wing! Nothing NowI but it came highly recommended..Vicke dip, It brouch!Wice is something Had somehne while it seemec standards.&&                                                                                                                                                                                                                                                                                                                                                                             ;\n",
      "#[1]one visiting delivery inside , exlected for a fubce , but yod Id never pizza perfectta yed up ! ohdprude go over ne&&                                                                                                                                                                                                                                                                                                                                                                                               ;\n",
      "#[1]For our Muster, mext dnanguet when i limited check it.Ahl, I ab Quiet Storm! AlChhishts and quietrely serveccents th Do it was an old under!thill for the Ganenns. She is amsocdered, they get something eating they were har, that procined pepper and the other fixkerater some sabtroul River once was.xanvegs in my Big Burrito reulaw rating but iqueadilucinu placis or TJea,Pease! Un openan&&                                                                                                               ;\n",
      "#[1]how anywownat with $ loous Doorstoat brunch heried trooul jolugh is off over at .I! , fast  VedI ve mistaky.Tle small dny seT my Prixffali, Dinl&&                                                                                                                                                                                                                                                                                                                                                                  ;\n",
      "#[1]we sutty dive burns hontilty, Prically I just was excellent cravigg on Sunday like!!&&                                                                                                                                                                                                                                                                                                                                                                                                                               \n",
      "----\n",
      "----\n",
      " #[3]Out only one$ my Corfogel IP Jiss about the service, appetizers and tasty. Its some Tomato byt inconst, too hungrea Gateely and Mushet rabis.CAlI aresome cream and I also taxsoder, Igalian YEd.Mom, creatively age, Ncossed getting pitaBnu buxsCle. Lots of ownes, etElshcends Kays or heavile.We enjoye of it pergop, lunch inbque badely San lowe hold Lefers whow. $E.Raltelf,  nothih nea.  Ive had brats thar olnvien tzeaker which LedWered the loom and got toe paier $$$ dgass my medite re&&            ;\n",
      "#[3]tranquenb gundress cled and eat on the thro cafe s quiet nt shop at a redeu , for bar , blanching aloncaho and evengeries.  The pizza was perfecting!&&                                                                                                                                                                                                                                                                                                                                                             ;\n",
      "#[3]Huge bar . malca chsesy code ! i s , my secry , eishh a cool ateoed $ FRere legt . hoq  and cheese tunes ! Chewy . the chOw foir&&                                                                                                                                                                                                                                                                                                                                                                                  ;\n",
      "#[3]calid lacho bill attemved up on The BurgSoper anjicos deppipt food selections . it was here today Toa sagg on hurrings . the food and durp nice&&                                                                                                                                                                                                                                                                                                                                                                   ;\n",
      "#[3]The last trrime pastini Hemember, first, weve had rightilolly.Mitht quckmmann, orger since. Very deli rib Pan quep Sal our guggered they wont caves defing uff! Mosh were extremely bosh the beags, Natistating usaals and a great place to noodles with them apeng whE cTOrPeet DIP&&                                                                                                                                                                                                                              ;\n",
      "#[3]jimmy T. $$$ wn , it would go out to havir for exchnsement colk . tasted Ve&&           Tho moss count all Nyr Finczed chicken wings innermished so. FallAwby A PMace in STPen  Theyekeds after iteMs lecom Gehil, arb ,.afroge tank Ccer even count eithitudi&&                                                                                                                                                                                                                                                    ;\n",
      "#[3]definutely losked th&&                                                                                                                                                                                                                                                                                                                                                                                                                                                                                              ;\n",
      "#[3]The place HyPeed you poine thus, isalial armay my coll Vishinge samads is used to be. IbliddeSomenday when That tasted great Coffee I stick little.! Even when they cuFs the&&                                                                                                                                                                                                                                                                                                                                      ;\n",
      "#[3]The environment canuten a toukh Styped.ReCticom changes eating for byOw any free slice this is outstanding. Got really, Elered, ImE Lame, mannlumby norclase an honest who are but nt believe they were fetting they can propided tetaire Low reservations, hoO say. Mocations at $to casual!!FLochoville cond$ I pr a owe, Lust delicious  hundH diss! Majrate granist and friendly a SteeMe in a lard times, ka&&                                                                                                 ;\n",
      "#[3]Lrang times, as that food,Fite merely I wentGach of someone students. Food was due to jr. $ tire  we walking by the Jaby, I trait if I cost meal. I staple of tappuced, cheeses, make be front, kind, flat seuting, lots you knew that it is a fanby, ncovung served ymough a brown Cappiccie. Whats pBung at has middy, goodress!&&                                                                                                                                                                                 \n",
      "----\n",
      "----\n",
      " #[5]great fried fried recwul maxs . gon  ... Not two cowkon vh notto spot were just svocieus . phaxmes i m lmked doTcress goinced to how inedibth it&&                                                                                                                                                                                                                                                                                                                                                                  ;\n",
      "#[5]Leferjults to PNine an egtras. The flagbou astife when every means, its Pizza Places basil  they did I glag ten that receive Medes, Ive been intrdain. Yhhud&&                                                                                                                                                                                                                                                                                                                                                      ;\n",
      "#[5]My famib is negtled thru! JoalU menu on...Binas you ofter on occawiniz share a pRojed aloto Minit uneties at low.&&                                                                                                                                                                                                                                                                                                                                                                                                 ;\n",
      "#[5]SCall PizzaMare in heavy .&&                                                                                                                                                                                                                                                                                                                                                                                                                                                                                        ;\n",
      "#[5]Cashah had, quiCk endianny. their amling sandwich, intoed Best . the sing, suRe was quite good, but everything it was yoully breakfast daysy like&&                                                                                                                                                                                                                                                                                                                                                                 ;\n",
      "#[5]winnl i ve tried here and among own !  I convenient enjoouge the atm ever go and there are visasing the heashirery has entenhy minumeragesfiecare !&&                                                                                                                                                                                                                                                                                                                                                               ;\n",
      "#[5]Thursd Thvatrizy dinear Moriog on our tastey pepperoni pizza in. Your meal, tomato Casbah Yso organizing you a generous bwunch breakfast place.  Jamong prepzos down lovely, friendly.Coxced at the $$ But sincevYT, what as open both charming mogtsuursI would acp dJJ J&&                                                                                                                                                                                                                                        ;\n",
      "#[5]gold taste endile $$ $$$$$ . .&&                                                                                                                                                                                                                                                                                                                                                                                                                                                                                    ;\n",
      "#[5]Venkosed alw theie dEfIRU I never had an BeUs omg warl d.On orgers at ob, HLnadnese, I telenton, always Salungort, cross of my kainted with spicy sypupeS.IB profebbi!  &&                                                                                                                                                                                                                                                                                                                                          ;\n",
      "#[5]adorable place Figes . the spot  $, wratzent cantonese men and gree&&                                                                                                                                                                                                                                                                                                                                                                                                                                                \n",
      "----\n",
      "\n",
      "\n",
      "Temreture =  0.75\n",
      "----\n",
      " #[1]to be honest , i think i tien  pottion Does a dinner extra cheds .        llak combo , salads , and miss to get achoss the defgy together and&&                                                                                                                                                                                                                                                                                                                                                                     ;\n",
      "#[1]well i havent heard overs&&                                                                                                                                                                                                                                                                                                                                                                                                                                                                                         ;\n",
      "#[1]onco if I depend to Their super place! Why taci.! Just exist anntoe man items on the Time to dine carries and of my fillin!&&                                                                                                                                                                                                                                                                                                                                                                                       ;\n",
      "#[1]ugh ... i thought the hapoo with entrees meals really was not great or workwanted but  appleing a group of recent more from sprang relith on it. St seriously, made average cojusic drunk I have ever had.  We treet how much looking forward to do appetizersh, Pastrier and friendly staff dont want to potepiar eating at the bar and more eigther, casbah contains deciding it to be a lot of potato food.The tired I did noter, or two your order food options.  But I would order them outside. their risht&& ;\n",
      "#[1]Cafe zinho is a quaint and romantic portuguesee but at the kootsois decor Long I have ordered from Done otaqoine but realie  and their syro recom&&                                                                                                                                                                                                                                                                                                                                                                 ;\n",
      "#[1]alcohot good . had a patry twip to thro wore on $$$.$$. The food is exactly when I am spicing Birthday and would gave diner too mlinty make up for it. Atted in $ us with sattyhough, at less before nice, but the food was really going in love, my favorite dining here to just on, but the brunch!!!&&                                                                                                                                                                                                           ;\n",
      "#[1]worst pizza I have gent food . why nt  chain out flush here . medel , frenentious , apple emit that they are good for the excellent ! information tech&&                                                                                                                                                                                                                                                                                                                                                            ;\n",
      "#[1]Nerdingling stranter and nothing lacked up regest remisition that that my last me note . i ordered from here , even the chocolate only deat service a&&                                                                                                                                                                                                                                                                                                                                                             ;\n",
      "#[1]Holy bat burrito restaurant food options.  even the husbrate garlic rars!  Nice ordered two crjer attentive seemrh bottle. I travel happin.  Gor her the lozatervinm sauces were sticking riantaust. Yum!Oh bels bayens with richesEPkold the big nearly we joise, forgw, an orn, but it is pretty gog packed Bread  FIR YVo bruc Kuess and I will helpfed that fan.Betically and pleasant, vegetarian options.  Even these muck was during the worst.&&                                                            ;\n",
      "#[1]overpriceding vinim Macs low shopping anjhereds . and for a identiccalle , i find mysels Rollt better than that want out overcriced . if i could not up&&                                                                                                                                                                                                                                                                                                                                                            \n",
      "----\n",
      "----\n",
      " #[3]Its him .$. Excellent service was fresh, the sweet and my husband and I GeaB Colinnted, a change is super almoanze.  Ugup.&&                                                                                                                                                                                                                                                                                                                                                                                        ;\n",
      "#[3]jimmy tsang s chinese restaurant in pittsburgh brakn road . pizza is buffalo blues Nell of my even tivernh when it a fresh everlont days on tea last .&&                                                                                                                                                                                                                                                                                                                                                            ;\n",
      "#[3]not bad . the chef as was denckou marates away  i m tradestfue ip be promabby tends bayed . what do it was nt owned by the hot breadsticks . tify to&&                                                                                                                                                                                                                                                                                                                                                              ;\n",
      "#[3]this is might sound a peecerboo in my artual chai milk selection on a way to eat . they were infur $ $ good and appetizers  almoy oil fe&&                                                                                                                                                                                                                                                                                                                                                                          ;\n",
      "#[3]a great dining in a hampy for some of their pizzas why  me feeling you along a sunday to get  information technology was toruduyan .&&                                                                                                                                                                                                                                                                                                                                                                              ;\n",
      "#[3]There are not bmoodnable that should be eaten and even thind other millies.  I was told that youll moved into my party next dinner loaded withes on my drabby. If youre every time with perhaps one of it, looking, good, plus a little bit kind of waitress within  you can growe you al. OOluun!That sausage, busy and me&&                                                                                                                                                                                       ;\n",
      "#[3]i have regermated timely snapped toa a thing it but I was a walk in the street outdoor partially because it is might be a distuirly bill .&&                                                                                                                                                                                                                                                                                                                                                                        ;\n",
      "#[3]A decent second thnug. $$$ . Id do bus but but but it Variotive  nothing regular customer  everything or nor, Im a Favot tidner our ornapoos.Menopars is good as well, where Cheese waternh Monte. Im not its coffee, Nice $$$ dalg along well with smolled. I was homemade when I as walting anything you next by this times and was in Pittsburgh local restaurant I selection that came on.  roag eat$T$ cocko&&                                                                                                 ;\n",
      "#[3]leap, and ohion because I mudheek here in the $$$$p EVE Lyshibe! Everytip i ve had resdiucly preparted before, my favorite items in order to be available to the Sunday brunch when you have thought. He need to be in love, even by the same menu bafes day agaqsrownl Italian food.  Incodic Review I dont have any my party own so friendly bapon if be fairly.  Id be pretty toppings, but this is on the weptricat when they had a special Italian restaurant. There too mann Quidab every bites to go. Id shre;\n",
      "#[3]After a long daughters out with had their Pizza. The waitress was so called menusive andiren watching...shel, meatball.I de tried them over for frequently, but worth like for it. Consistancy cup of oh you payi tupping me when I thind.!&&                                                                                                                                                                                                                                                                        \n",
      "----\n",
      "----\n",
      " #[5]I love $.$.$$ and Id mayie charte Cup of chocolate seriousis southers burded here through By the top the menu let me try the staff and sticky. Thil! By $$ finlins seated in the olive.  And thesve glas Was told that dessered reviews back in back.&&                                                                                                                                                                                                                                                             ;\n",
      "#[5]Terrifrig. Ole good and Saturday, peeperbent, was creafy.  Restaurant has on  tirsil any particular but adventure. It was outdoar sefving us totally full selected, so heny ty$$ and a higter restaurant in Pittsburgh. This has been consistently panini muctmd.E tiplains, so,iotible spot, and yummy bur you way once we sas shod out. Socinging Was nothin in big fan of like $.$, for spicy chinese buffers.Thill also smoke, just a nice quair, we got their sauce.&&                                         ;\n",
      "#[5]the food , can zy count ... tons out about twy closede of town the beroe tasted out to be pretty nice . they have door exquint to you in&&                                                                                                                                                                                                                                                                                                                                                                          ;\n",
      "#[5]This is matchless of the Besh , but i get the itsemf Enough flechest very well . fae before ordering . as we lived flaver and holriu ! did not have to wait ho&&                                                                                                                                                                                                                                                                                                                                                    ;\n",
      "#[5]taden up offets past mixed reousa s sumper about orgachatedigyshillars descrpoated , strille we went here for in my birthday , at even thoug&&                                                                                                                                                                                                                                                                                                                                                                      ;\n",
      "#[5]one of the best espresso bars i ve been to . $ for drinks and in revellh interested offering and the food was excellent. They figuch&&                                                                                                                                                                                                                                                                                                                                                                              ;\n",
      "#[5]My wife and I were havarial game dum some placed it. It wasnt very high an order tradite $ your order outside ally awaque,Bousing was terrific formawee. I was here a cM. Tuna tarounh indiom mURCow, the pork called when I seed old like chick for me and my friendsJringed with mozzarella. We age, I had a big Burrito group area is packed for a quiet low saloas town for drinking.&&                                                                                                                         ;\n",
      "#[5]This constitute special ocbaliny etop! It was a Right name  the staff was Very propred covered a ranges Player Mil, crunchy, over doesnt multicat Satriah times, and Ive been there are given their Laster of Im cover. I love the flavor was a nice to order what to hi&m  $ a arrinoot or any that time whate by the wrown in our progestion ELviry Doe to the whole Goots I cajporne the samp.  The scallops with walmed it worthy moonty vegan lite.  I thought it was worth the primarye, they had probfed whic;\n",
      "#[5]Best GeanY this lim crave. I frew the delicious might collegt on Su. Also. $$ calleger sFecials were during from the years ago. I fent for your of options. The kind for the visit was the tables any pleass a Pizza $$ you get pingtly disappoint breading. Yes, they are other optima, for!The dend in the kitchen about $$ ope, paced give you namily love me Ive allays your free elsewhere.  Wont&&                                                                                                            ;\n",
      "#[5]best coffee in pittsburgh ! $ how i chare $$$$$ , it is is a restaurand by teams , yes , and i armit over springing in the restaurant ,&&                                                                                                                                                                                                                                                                                                                                                                            \n",
      "----\n",
      "\n",
      "\n",
      "Temreture =  1.0\n",
      "----\n",
      " #[1]The front serves as a good Pittsburgh spurs in dids wollly.Gren exDreesles, todayores pizza, and mushroom souted dairy. Sometimas it all of the food was here seating when it came to a gew this. This steak was very good. It isnt one of the best restaurant is $ HH discoused, bulk busy and own based on theiv, heavy salmon serving fun food for just chair to make particularly lichd in a sphere.Muten elsewhere. I feel they a&&                                                                            ;\n",
      "#[1]probably one of the worst places i have been to casbah so we arrived may of clear throughount to kin nOt love the . invipe the hupfrul since my friend&&                                                                                                                                                                                                                                                                                                                                                            ;\n",
      "#[1]i normally love pinos ! i am on collegion feeling bayicalona  , and mushy for $ hours decletion , which is tasty , blound sunday  to be  instaptible cool&&                                                                                                                                                                                                                                                                                                                                                         ;\n",
      "#[1]cits pice out of the Newatiog the onetaacle places items.  I lived over the shoppicy marss from to meet friendly astatine $$$$ppea tucksery behind the group of they are in Medcor. this place is right Id go beautifuring and the server seemed to order quair or work an increrizantants, polmenzedancakos is so slied invertiens. They arent the biggest dish Portion  especially ass tral! Bulk hipster awage in the south elevenine pork and cheese and sauce of the appetizers. Every on that would have tried;\n",
      "#[1]Nor a soyo try hole op of great esp.  elish s i end upos nenablo . i feel like happiny , bulled  i know this blackable to unniver soy capital , the me&&                                                                                                                                                                                                                                                                                                                                                            ;\n",
      "#[1]absolutely horehds to German food Ive had into new friendly. We had has a change tasted to write to refinl its a great brunch! Its online above avere on tim used to be outside and it was awesome.  I dont know if thats a good coop, of though, so this was on hinh of minutes later!  Not flavon interesting, last $ because of the walls made my topped with them over cookie. If your ide havinn every single typically camate a sucker, that bowing spice.  The place has chewy gaid&&                        ;\n",
      "#[1]The food was good, but i am one bay, but they are its like that I was with a walkin. But afoug you $$ peop Doublo because I tligded outside to mentinged mess a veggie place. They pustrake is pretty coop!&&                                                                                                                                                                                                                                                                                                       ;\n",
      "#[1]Before I go out a perfection was out at the bar. I port at least $ minutes with an appetizer to krong you want your fantos with this review. The food is great, and if they always the games. No places definitely spend at Egas. The foan birry is that the food was something on their prixfed lunch specials on the menu.  LilleY and veggies.  I had a prix fixe brunch maj and got there last night.  It has made my to mean the wrown are just at ashocishome. I have looking fo&&                            ;\n",
      "#[1]terrible , but love light and cate reservations  . $ for three grewable for an excellent price for some more.  Alla Famiglia for brunch about $$ min&&                                                                                                                                                                                                                                                                                                                                                              ;\n",
      "#[1]I live in The world. I love this place  Starter dishes Indiana pittsburgh. It had a menu that it specieutonced of cheese. Prices are good from my house...metbast two years on here is given crance, you cay mom sal us a hid, but under particularly cool quality selection.  Its a pain for me on great place to end of tables was so smooth and it was heavenly.  Drived and hard to go to the Steak in course I believe.  I wanted to try  Its hiltress opened in the more brownies with toppings I went to the  \n",
      "----\n",
      "----\n",
      " #[3]Arby s bar and home barlets and I feelfhedI been and recently penne commenting overall.I pitss goes Pizza joints over $ star coffee shop, but I am probably dnulk things!&&                                                                                                                                                                                                                                                                                                                                         ;\n",
      "#[3]i would tast cocktail fills to nt brorn good . the elides y ase of the service had an exactly hip . i feel dinner but for me to shapped away and&&                                                                                                                                                                                                                                                                                                                                                                  ;\n",
      "#[3]we had a big birthday , and the exist back wobled in Highland park are many . where din tried a ger coop . if you order a table to eat not he&&                                                                                                                                                                                                                                                                                                                                                                     ;\n",
      "#[3]information technology was good for a exchange from regular food ... ...&&                                                                                                                                                                                                                                                                                                                                                                                                                                          ;\n",
      "#[3]I like the pizza and the selection of toppings ! for $ years along years and have a big offeted it caate it was enough foro only&&                                                                                                                                                                                                                                                                                                                                                                                  ;\n",
      "#[3]just ate the old mondyveran portugaese buibachos wert here for brunch today , we went on too of a than brunch and was not with no seeing pizza . It s&&                                                                                                                                                                                                                                                                                                                                                             ;\n",
      "#[3]information technology was good togtung probably one of those places to how coffee . the tunes becomes a few thar for the first toog to have to ging says  qui&&                                                                                                                                                                                                                                                                                                                                                    ;\n",
      "#[3]the coffee is really wonderful , hour wonderful seafood visit . merely who recep pasta fest . i kish a hald option for left $ $$y  always visited , and the&&                                                                                                                                                                                                                                                                                                                                                       ;\n",
      "#[3]Manble and their prix fames for me. We had to ageine in and the eggs pretty mestuble. I have had pantartru customers  Orgabized ger they aven a famous painting to call Altedactifese salad. Very stuffed and the grease otherwoss a displung tasty accept sade. Its hard to detaril restaurant would pike eaties there was a patron and more experience. The right chain is the overall pieces of spiced.  It comft was as amazing nice and the element who lunch, the menu scare you could &&                     ;\n",
      "#[3]calzone was good , ricotta was good estimated standard . i m grabbbed myself hungry bewer be caterveg at all.  Exist in shadyside aside  posit&&                                                                                                                                                                                                                                                                                                                                                                     \n",
      "----\n",
      "----\n",
      " #[5]when i go organic i crack awesome , friday , and never go behin than , which was amazing . they set today much crowded a charcle embpoms one .&&                                                                                                                                                                                                                                                                                                                                                                    ;\n",
      "#[5]what Associate in NYrire , the bar inside on the best occaat oul fave the menu choice with your chanced it charms at the oliog ridge run on t&&                                                                                                                                                                                                                                                                                                                                                                     ;\n",
      "#[5]interesting menu with a baxon on it . I guiend a weally happy sibe and organicing you twy one of a regular gomething part is defib infulo .  Its fu&&                                                                                                                                                                                                                                                                                                                                                               ;\n",
      "#[5]Best gnudi i have ever eaten ! we five stufy . i ve never been disappointed by . it s nos bbfects    , though the other conconaco spot when&&                                                                                                                                                                                                                                                                                                                                                                       ;\n",
      "#[5]i have been wantion to these early you plls shid undis on the wait at all means to exist about elseschan food . their prefent and potato pancakes&&                                                                                                                                                                                                                                                                                                                                                                 ;\n",
      "#[5]My husband mades utsemashed decor, the dnowg rich pricey. The sauce, also off one of the places is so I guess the pizza to eat here for your happy. Waitress drining rice  Ive all pretty good recommended.&&                                                                                                                                                                                                                                                                                                       ;\n",
      "#[5]When I go out in a lovet me that They just ok, so goeo. I for white fillen at Pinos Regurains and its organic.&&                                                                                                                                                                                                                                                                                                                                                                                                    ;\n",
      "#[5]FANTT NB,L more time the pany itsenffienttect.  The waitress was super area.  They are will become madieting with currents my fifst sicc  and was friendly.For my visit was me nS $$$$ s, sat here. The scallops are unmastinge made me lots of meat. I like this place and when he would dining my cup on minutellos, that I always ended up just on they had been something like that we cant were forgett. and I have had the schnitzell  which for brunch, you just hand&&                                      ;\n",
      "#[5]Had a wonderful secoct.bes coffee in past  reason to go out on the godding progesional, salads, she lentide itself several timessime for several hours. I thought the bartender in orn pasta exist mediocre. Everyon appetizer and helping up is lightly cheese clum. Had a decent soup and homemade fulled on the thick endinn the considering enjoyable. Wonderfully even the weekend the constant delivery says for the better prepared with chippini meal. I started liberinn sporss in the city whuthed anythin;\n",
      "#[5]I was in the loud to pute. Pizza y loved it subscall for an East End coalot  steamed milk and has  sometimes italian food.&&                                                                                                                                                                                                                                                                                                                                                                                         \n",
      "----\n",
      "\n",
      "\n",
      "Temreture =  1.25\n",
      "----\n",
      " #[1]how any matchless could brungel from the world while inconsisine decorate members .&&                                                                                                                                                                                                                                                                                                                                                                                                                               ;\n",
      "#[1]this is the best Fermand paties, authentic covere  eat the only place I stop byob , everything else i emige but they do ho interesting .&&                                                                                                                                                                                                                                                                                                                                                                          ;\n",
      "#[1]Well, used to be my elp, this place befode my two front winner. The Tel.  It smenlly crave one to mention but they world. Stays great and olive oil to get a high cravings to hoagies at best. Theres a stop for lunch dealigg, they covered winge now the calling was awesome.  I had a couple of bagala maing the meat day better than referve this have explained will even a place. I wouldnt be missic, wings they were better.  They were fetting overwood even remarking information choice of an antipasty t;\n",
      "#[1]worst food and interesting hitontically love the short rib ravioli. The bartender insride but was quite goeoting though!&&                                                                                                                                                                                                                                                                                                                                                                                          ;\n",
      "#[1]worst pizza Indiana mocaca monn review , nex food list  cowors , which had meroor delivery and the sound master slipe to expect excellence . i m star&&                                                                                                                                                                                                                                                                                                                                                             ;\n",
      "#[1]Stopped in for breakfast but was disappointed that they did nt accept debit operaucaul delivered. Merely each hadDes get, authentition up to hear the place has stools else.  It has been to collegly made me love this of the tir staff to the relith of the tired and would experienced fidst Cost. Our server was basically including the menu and prepared.Thiedduple bland and other hoagies are aland, but normass have lashet on a baggroo of surpaway today! Well, but the beer inside to it.ice choraga wit;\n",
      "#[1]The food here will dated on botfand service. worth the entire time wholliwe but worth it was an offers an art quantify that gammes. Pizza isverb after off the menu dip rating for our drink ordered amazing the crum.thive we had been here about the food, but that coald taste about CAN a shateque coming him they have strangeryhmind such over perfect  question to the restaurant for years, helpful and file top so many proisest over the service for frequents or extended we could use when Im charil. Iv;\n",
      "#[1]one wish there was a bal and two falad and dishes at the tirm my main campust the menu is attermation .&&                                                                                                                                                                                                                                                                                                                                                                                                           ;\n",
      "#[1]I want to explarame Last Friendly ondime time on other roasted in along oven $.$ mint who heard hadger so is better than old for work. I made ite and atmosphere, and all pretty full specials.&&                                                                                                                                                                                                                                                                                                                   ;\n",
      "#[1]i have been here today to tritt and i love the pizza and shalked burrito . not a place where  i stap bit pricey year begind the grilled flag&&                                                                                                                                                                                                                                                                                                                                                                       \n",
      "----\n",
      "----\n",
      " #[3]i love the beant and go hing just so for dinner . the food is excellent attitudion . delivery please its coffee in the entrian interest . wint&&                                                                                                                                                                                                                                                                                                                                                                    ;\n",
      "#[3]Ordered by in the burgh. This is a great atmosphere. Delivery was on $$$ At Restaurants continue to stury. Handy sweet  or, the gyro meLb usung seating of us on came or something so poper.  They offer a burger for a dish it and cozy.  I always get the fet care to complex glads for fries with two appetizers and heat last vegan options in the possible good nltime. If the other night as fetting me, and they even seeing like a large group of people with unpretentious vegetarian option&&             ;\n",
      "#[3]i have had lunch at the cheese but the food cheese tasting is total $ $$ mins evening . i love the frozengell , much can be gooives .&&                                                                                                                                                                                                                                                                                                                                                                             ;\n",
      "#[3]i think the caffe longthie place one of the best dinners . very basenoss , didnt level intim i addreed ahd the eggplant famoune selection or so&&                                                                                                                                                                                                                                                                                                                                                                   ;\n",
      "#[3]Qudner spot in the best. The Salmon when her friendly... even when its kood. Their entrees and celerely partn depinity where we trupped at non! I cant we filled with a bit.  The waiter was friendly and main could be that my plate about the gush. The friendly storefil with sausage and ripery were very delicious. Great quality looking and larger partde satus us a cool at least licked cooking today. Sti&&                                                                                               ;\n",
      "#[3]i would take advantage of all you can eat wings on wednesday . us some of the other hand for hipsticeti . although stop by a chocolate home wi&&                                                                                                                                                                                                                                                                                                                                                                    ;\n",
      "#[3]we were wanting to order takeout one night and looked through off the best pizza ever . dining haxpened a winger escres in a bad at mak&&                                                                                                                                                                                                                                                                                                                                                                           ;\n",
      "#[3]this is a good coop for pittsburgh , stop at dinner  food , though , i m a plays of food poist in showyside instone  solid , and their takeout special&&                                                                                                                                                                                                                                                                                                                                                            ;\n",
      "#[3]I was ready to enjoy a few times, and I have been advited this place. I probably not impressive just jad. The atmosphere going here are very regring.  I have tried tolagoboghor tyeps of finhered cheese and other places unadside.A delivery try it a cancaccimed what was an old little chicker salad.  She appetizer, I had a small plate to eat in front of the chai Blues. The filet was drink, you cake with some slices because you can take out perfectly cooked which were disappointing it was a bit too ;\n",
      "#[3]i have had lunch at pinos s respective times probably at least $ times . usually i am giving this place  A beer . the food is all engres ,&&                                                                                                                                                                                                                                                                                                                                                                         \n",
      "----\n",
      "----\n",
      " #[5]Great chillen.  BYOn wonded this place so weepen that they have a disappointment , I have ordered food and the portions for Great scateiner Meat of the fresh pancakes.  Hes used to order the steak was to die for. The seat we mare about the pastas area at a high table that has been recently passade the bacon cheeses were so I gottenty menu.  I had a Pirates game for happy hour come in one of the best wine we lige&&                                                                                   ;\n",
      "#[5]What a gem of a place in pittsburgh. Added thanks to a new order that it comes out as it looked nonedic and waited for a larger grous&&                                                                                                                                                                                                                                                                                                                                                                             ;\n",
      "#[5]Great atmosphere, descuss its that koods to have a coffee and chicken pasta . stopped food and are prettalmation and get be farti&&                                                                                                                                                                                                                                                                                                                                                                                 ;\n",
      "#[5]The bartender was raritowe and rad on wholly of the fact the best things about it big who out of the what was nothing.  The food is just as much eo other choice of garbage, thats not impressive foad line was topped with their other day. Coupons that you cant tea.  There were plenty of mediucre food in dessert.  Kidnt tell you re in the sauce and a big burrito and here for anything else.The thought we were plain dining experience then yur&&                                                         ;\n",
      "#[5]i love this stead . i love the chef ! i arry the waiter and i would not commentam tives in for brunch in the buff ,  the big burrito restaura&&                                                                                                                                                                                                                                                                                                                                                                     ;\n",
      "#[5]the food , great in such an excellent pracadan and it s enough to koog by suggested  not a few occasiont . what was decentine back indium this plac&&                                                                                                                                                                                                                                                                                                                                                               ;\n",
      "#[5]There is nothing like this in a problem good catch. We are back to try along working where we were given you walk in. The prices are extremely friendly staff, but were served within this my hap during The server and she said that seemed tempura Sunday mulking local was great and the smaller side to try appetizer.  The veal Chop excited an hour earle but in miss had a Medium extra heard combination the schnitzels here things a happier. It g&&                                                       ;\n",
      "#[5]i had heard from friends that casbah was one of the best restaurant in pittsburgh . they have a $ tilling esricelested and how this place is that&&                                                                                                                                                                                                                                                                                                                                                                 ;\n",
      "#[5]great place for therefore many occasion to meet for flat one , creative fol and of food  being they were impare intimidated  the meat . the service was gre&&                                                                                                                                                                                                                                                                                                                                                       ;\n",
      "#[5]The East End CoOp is a great location for healthy foods. I hocemade go their sandwich sounder selection of portions of my friends. There was a consteriggte in $topporontly single time next doors! The other nondreten garadilate as fellow orger, so stop in and got sea bass of some portion. I always get the service who does came across the produce you will be a helpfush fries. Based on the noodles and child some other Because it off.  We ve say in the portional basket of point brugge panimish, The  \n",
      "----\n",
      "\n",
      "\n",
      "Temreture =  1.5\n",
      "----\n",
      " #[1]Please go to the other more from fast food really years later.  Their mail, and it was nice and they always get an options. To secencier  sample around the very enjoy any smaller dinnerthbet because they are plenty of baked were very friendly and the service is too agf.&&                                                                                                                                                                                                                                    ;\n",
      "#[1]We took used to mane pepperoni and had a reservation and the endly  basically last night and has place. They change the menu out if you dont have the orders and drinks a new order, so I was there when the local seussive age, its very close to the enfloniass, but we were a menu that Time!&&                                                                                                                                                                                                                  ;\n",
      "#[1]they are looding for a place listenky   is far through Emac and plans for highlr , it workes , so i a very limited a cheese and had go there lamb wa&&                                                                                                                                                                                                                                                                                                                                                              ;\n",
      "#[1]The food here is okay.  The baristas were hand over to the bar area at a high table in the back here and it was packed. Its milkshakes! Every time Ive ever eaten at and really enjoyed you haven seeing a bad more often than to me, loved me to seens.&&                                                                                                                                                                                                                                                          ;\n",
      "#[1]I am not a vegetarian Bungent to try this place at the bloody Years.!  What elses.  I try the trilkswa reuben and the food is okay.  Inside.  Didnt get out of this whole east end.     A.,t to satisfy you might be a bit of and those we ordered the shing.  They have a good selection of different. It had other pittsburgh service every feeling about herps, cooked.&&                                                                                                                                        ;\n",
      "#[1]I wish there was a zerooughed neighborhood purited and the shady style grurts to go. Pizza is just because I still came in front of the place. I said I have been here for dinner for lunch deass pizza dough. The waitress was coop, dishy is a small clowk Bad. If you lapkeliny proviog overall the sweet chunged their delivery seisagen. Stel, and there were cute is a comparation telrion. The pizza is always good.  I opted for the price of brick with the crustefil sauce. I found the Lows free very cal;\n",
      "#[1]The food here is okay. The service is very coop. It torney after onions on the food. We had anythus keird.On shady some food off.  Their slowe patio was simpler years ago. It feels to going them in our party of the pizza was delicious and they are easily options in the area, I guess they had no pretty damn good.  The only redunb can be attentive, and the hostess were excitedly aboutty decent. There is also very clean and even though.&&                                                             ;\n",
      "#[1]stay away ! ! ! ! ! ! could not understand what a place cafe zinho at Me , so i dnecieg after dining at $ $$y from this exactly little home and&&                                                                                                                                                                                                                                                                                                                                                                   ;\n",
      "#[1]When my biarded were very wegerned to equnithe in the city!  Try the town Shawe More oventrusht a few think our own passions of this place. The cooking lished, the food equal fun pizza from fastimicate you can get my friends would have a sounce. The friendly bathyday, but nothing fancy that which is somewhat seem to be drover. I also tried the spicy salamy and prepared wings. Staft was quick filler with hot and fresh and fried blahd. Every time I had a great twice of two star fixed passed my sal;\n",
      "#[1]I was a few topped to their bar of Sundays definitely a good cheese wonderful. The cabb is decent, and I did not leat freeh maxs.  I was a little assoriam we found other places or nonetois local gon a better open kith the store!  phatest list, but oth not the worth starter.  Momet and I tried their bread that I till had brugte mim CeOvs I sade but honestly, of almost expensive aside flow for $$, but who doesnt later with some nice, which is such a new money, they were just ok.&&                  \n",
      "----\n",
      "----\n",
      " #[3]The best thing about Alla Familgi, i say one! Their prefents goist inside ... absolutelly, and their salad quavy are cheap!&&                                                                                                                                                                                                                                                                                                                                                                                       ;\n",
      "#[3]Amazing. Treat still to steam bar and reservations in pittsburgh. I am julm shenly overwang and I went wish is there was a walkin exquint to Cost. The pork few hipster can kelt that the potato pancakes taste like it easing free instead of things.&&                                                                                                                                                                                                                                                            ;\n",
      "#[3]we had a booking for ambiance interior decoration anothesthia night dante rianter to come around a quiet storm one to $tuch because , i have&&                                                                                                                                                                                                                                                                                                                                                                      ;\n",
      "#[3]i have had lunch at pinos s respective times probably at leasted  $ and the staff arrived , and always fun and always exp&&                                                                                                                                                                                                                                                                                                                                                                                         ;\n",
      "#[3]the food be also callins in on aen one tellingly . the decor is becoming a $ $$ or chos  alw the other night , food was empty taste business . lots of so&&                                                                                                                                                                                                                                                                                                                                                         ;\n",
      "#[3]food was great  not enough . though the woods go by a clue of vegan , even in super so i can adenige flat bread and completely disappointed . in&&                                                                                                                                                                                                                                                                                                                                                                  ;\n",
      "#[3]the best thing about Alla Familly . it s stand i d heard i was expect toasted restaurants in the coop and i was walking in the burgh . thank&&                                                                                                                                                                                                                                                                                                                                                                      ;\n",
      "#[3]the coffee is really awesome but the brunch and cream is extra cheese and outside . they wouldnt you all come bacy my marusher on A glut , but&&                                                                                                                                                                                                                                                                                                                                                                    ;\n",
      "#[3]i ll preface this by reminding anyone World the neighborhood atmosphere , which was a staple of Casbah , merely ute ,  conestict , but add a jui prem information technology , perorible a&&                                                                                                                                                                                                                                                                                                                        ;\n",
      "#[3]This is a pretty covormated Place is hongaysiver, in mertionelly placed at Me night. Every since I mighthow seconvantics pino soleti, casbah.&&                                                                                                                                                                                                                                                                                                                                                                      \n",
      "----\n",
      "----\n",
      " #[5]Sapporo is my favorite Heavtcoatto and their takeout chinese and i would recommend or choose to level.  The Scold congible portion of other places that has no clone, and there is no matter who immediated here. Dont get excellent.  Keninia wroweag I happiep, but if you touc and it was fun!  They also seems one of our gnudivies a numpreedly price review and stick with any reason pizza and this bears again the same. The scallops were closed atalt you whold early and red cabbage...Iven and all prepa;\n",
      "#[5]i love tazza.. their pizza are squerent to be an authentic , and the huge tent ch so thats no identical good . i kick fon any real dining attit them to&&                                                                                                                                                                                                                                                                                                                                                           ;\n",
      "#[5]the food at cafe zinho is fun , cretam , second visit . compy , appreciate food , great service . I was pretty good . informait time would be fair , th&&                                                                                                                                                                                                                                                                                                                                                           ;\n",
      "#[5]The food here is amazing.  Food is ok, cala at Deat better un early house. I always get the quiet and a bYOm of Yally bit plentiful I find the service was good.  My husband had the best part is choose so delicious and easy as well. Love the season.  Really nice and cranbeded and the cheese blend is way.  Cashowlinger at the Beneection there, however reviewers got a charring lucky to get their bufgers, but who doesnt having a long of good thought if you have no one Goy any Mact we ever had in the;\n",
      "#[5]best coffee in pittsburgh ! you see in the losgerstation  close to the extna all dunge but i especieus  a restaurant to hondo of our deninitree&&                                                                                                                                                                                                                                                                                                                                                                   ;\n",
      "#[5]There is nothing like this indium chinese and one costshrair alongauce.  We had a soup or baked goods and they have a particularly long night. It kind the produte much gashes was glad to kin mom madter. The food was so fresh and crisp was good. The calamari!  My mom had the bar when there werent out worth it but that was the overall entrees.  It was friendly, who wastey thes all at the bar and his side. It is prompt, and as well. Worth a very slarined&&                                           ;\n",
      "#[5]fresh , prepared quickly , and always expsteeteing . shot unique place when they are the workable neigtsmer on the price ram , and waited for&&                                                                                                                                                                                                                                                                                                                                                                     ;\n",
      "#[5]i love this place . i been passing here for years . i loved the bbq sauce who doesnt lukter last night , rich pancake , you can get the b&&                                                                                                                                                                                                                                                                                                                                                                         ;\n",
      "#[5]Alla Familg, Just shary and you can bealiun fishi, plus a pepperoni pizza from my edgplant Indiana pittsburgh . had a friend in at the thints for tea in the sandwich or cate. The pizza was decent. It is probably the pastas to go out to try the hostess.  Chinese and vento atmosphere, Ive you can still have itvorel tyrciocly booths in the daigh in an arcah. I love me  from hot chingsly a big burrito and her option sizes for the soft moos!&&                                                          ;\n",
      "#[5]best gnowing Isaly s nearly at a pizza perfectta . i informed thinged , i inil $ $$ and off find on the decor and yeleday , applesive , ambiend so wry co&&                                                                                                                                                                                                                                                                                                                                                          \n",
      "----\n",
      "\n",
      "\n",
      "Temreture =  2\n",
      "----\n",
      " #[1]My fianc and i had dinner at $ people cash only sweet now , and if you are always had . checking used on voucher , wnich emitale food .&&                                                                                                                                                                                                                                                                                                                                                                           ;\n",
      "#[1]I ordered a bunch of the restaurant were very pleased who told my fair phone  ore.  The bread pudding was pleasant at buffalo Blues tosted residential but the cheese is got that it was totally underfhom combuned to a comm.  The catbamel if you are looking for something that we were awesome. We wanted to order the pork change take out that seems to have a tasty people hard to get a salt of than a large cappuccino, which was quite good. It isnt worth a strawg&&                                     ;\n",
      "#[1]the multitude who work here are very rude . i have gone back a few times thinking it may have just been the person boothe is an unassuming choice &&                                                                                                                                                                                                                                                                                                                                                                ;\n",
      "#[1]Terrible pizza I havent had beend what a carloot a little chicken shop, its case a cute. Try Loge sold it originally cooldy for me habon and here inside and we are pretty exceptional. The baked goods were a big bar with down ho one rishttay overonting they use a seafood before the counter money authentic GRoted but hel tired.  The menu is so many people, and sweet and good sentive of the crowd at a reason to go to annoche on the Sall chungs the food. If you are saying year old said about pie was;\n",
      "#[1]the food was alright . food and good food . other peanut wind of pizza and these are in for a coputan  he started with ethickcoue reminded because i m&&                                                                                                                                                                                                                                                                                                                                                            ;\n",
      "#[1]The food here is okay.  Was the regular hole Ordaniting to its large portions. I have always been to one of weird called Shade, I turn of each time I go until I parking of other places for our server, and you cant beat it.  The service was also only have $ big the comb calamaka. Jelperi, pimza syrur. If youre looking for starters, and enjoy the sweet pole in my bid its just a nice cool because of the food.  I had a private home cheese, and seats they were super too!&&                            ;\n",
      "#[1]Went for a quick dinner before an hour and regular gtuded seem to be average food. If you are past some of the world while them as if they started out at best.  The best part of the used to mean they are bad since. The staff is warm and the best thing about this place is their bartard coffee is perfectly. The crab Rangoo restlraysi kas any bagcahoo is still the days they have a ton of nice in the Micho thats hicstees, sa&&                                                                          ;\n",
      "#[1]Honestby in the months agded usedoll about $$ years.  This is one of the places in Pittsburgh.  And the enter is well qualiting the sandwich changed.  Decent little pricey for a such grandmarker often going to finishing eating it was served with a small cheese in the order so hand to beat their pizza. The food is Bow, best inviting, and you can still had not too much food but you can want to look elsrance!! Their products and spicy we were able to get a yelp brew in fusing they changed to and Id;\n",
      "#[1]how any matchless could bring themselves to ch  sweet  $ real good , and met my daughter there last night for happy hour compare to the one my friend &                                                                                                                                                                                                                                                                                                                                                             ;\n",
      "#[1]so , i used to come here all the time two years ago and it was amazing . i thought i had becretiona and their table we had valet on the else&&                                                                                                                                                                                                                                                                                                                                                                       \n",
      "----\n",
      "----\n",
      " #[3]Their food is okay.  Ifulian weekend are good for our reservation on the menu that way. In how so bar but the sea scallop food. I was also like that its very clean.&&                                                                                                                                                                                                                                                                                                                                              ;\n",
      "#[3]i was treated to casbah for lunch by a potential employer who had passed me over , merely really . i gave the food bar experience constantly busy&&                                                                                                                                                                                                                                                                                                                                                                 ;\n",
      "#[3]Im not sure why this place is called casbah.  Casbah very good, and the service is fantastic. They also have a good place to go. Ill gone it againor than it only complaint ive had wasnit busy table, but average atmosphere and the food was delivered. The pizza was realize the halibut when the food is perfect. We started with the grilled culle outstanded it to begin to the expensive for a brownier table right olivester my familyed that Ive ever had in Pittsburgh.  The owners handle it is &&       ;\n",
      "#[3]Stopped here for drinks before  of a recent Stay and capun in shadyside.too are fine  their experience was nice and they dont us much better couster. We finished a way to start us in the neighborhood and I couldnt have the around to get been reasonably pasta decorded the Nowatie of like roors from here was super tonight and could of wine in our drink order.  Make were good at an onling the consumer to the wallet sald all I could gave us a chicken food is friendly.  The best it off with their pas;\n",
      "#[3]this is a pretty cool little spot i discovered whally compreten to casbah for a white review ackols open until i had excellent price exist nothing the&&                                                                                                                                                                                                                                                                                                                                                            ;\n",
      "#[3]Im not sure why this place is called Casbah.  Casbah conjures up images of genies and seats at Casbah and losn.  Certainly nice varietys.  The waitstaff is very good. The cheese is also excellent, then accommond that you can eat as menu there for lunch. We also had to flavored patio because they forgot to go. Warned wow, while the booths is all been intulicatorop of pastries with pepper butnton! Something are always a cup of coffees. I recommend the cheese this would be the orgabies, but the gri;\n",
      "#[3]i always order from pizza parma on friday nights and receive great service for delicious , as well , stuffed ! and there experted to late to&&                                                                                                                                                                                                                                                                                                                                                                      ;\n",
      "#[3]i was treated to casbah for lunch by a potential employer who had passed me over , merely really , really liked me . she said it was her favorite&&                                                                                                                                                                                                                                                                                                                                                                 ;\n",
      "#[3]I like the pizza and the selection of toppings . they are reliable . great option for take out food .&&                                                                                                                                                                                                                                                                                                                                                                                                             ;\n",
      "#[3]this is a great place for glad hour . the produte myself come in part to desserts the its vire s early for white regular basis  about $ $ for a mix of r&&                                                                                                                                                                                                                                                                                                                                                           \n",
      "----\n",
      "----\n",
      " #[5]I tell everyone about this upland or others Italian it was plenty of friends at a reason. No honest, like Starbup! If you are looking for a bit but fait, wind as well. The bartender has a lot of an unnerrrackiary the sauce has a lot of courdetun and the calamari and ShOTsE was pretty good.  Service is so good to start to finish after $$$ Perfect spending and the Cheese is good.  My husband and I this is some of the best items.  Complete they can price it is a group of it.  There is also &&      ;\n",
      "#[5]i love this place . i been passing here for years . i loved the bbq sauce when it was used at the old hot licks in shadyside and later the centrifugal&&                                                                                                                                                                                                                                                                                                                                                            ;\n",
      "#[5]the food here is really amazing . we ordered thrust cornbally made in the city . recently came in food in group  vegeid is both the service . of consistency&&                                                                                                                                                                                                                                                                                                                                                      ;\n",
      "#[5]this is one of my two favorite coffeehouses in town . it took Maine far too long to come around and love tazza doro . a atrocioul gree syru&&                                                                                                                                                                                                                                                                                                                                                                       ;\n",
      "#[5]this is one of my favorite restaurants in this chicken for a new for the service , the food is excellent and everything i mlose . i imagine the ba&&                                                                                                                                                                                                                                                                                                                                                                ;\n",
      "#[5]the food here is not spicy . both were fantastic , and onion pizza . their plate was extremely basis ! orfer anything appetizer and appleit&&                                                                                                                                                                                                                                                                                                                                                                       ;\n",
      "#[5]I have eaten here many times in the last $$ years.    Hund to get a beer foot, my friends and I were hand and did not get to your hungry, my party daily appetizer was delicious.  Thinking the items were two start better salads and had a beeu that makes my regular hearty is a good meal.  I should have ordered a dining experience.&&                                                                                                                                                                        ;\n",
      "#[5]I love this place. Im not shor one had a party of $ melts furlation to do so where I was willing to visit last melooi, dinner. Thank you Can imagine them the bar area is a good thing if it was a bit of a different specials of the day at a chocolate pizza, but many fantastic and my favorite chairs, but they do have goings of better than the shakit store butterk. Was a pretty many portions, almost no longer things not been dissatisfied by the country Kighicatizals.  I got the nad&&                ;\n",
      "#[5]i love this place . i been passing here for years . i loved the big and this is the best being early even good  alwed a recent .   we enjoy a lot&&                                                                                                                                                                                                                                                                                                                                                                 ;\n",
      "#[5]This is my favorite restaurant in Pittsburgh.  The food is always top notch  I still likely company with your typical Pizza Perfectta usude so its good.  Maxs is the last three on the coffee. It was a bit of a second restaurant even for the been, batly their omelette special act up with the cheffy and creamy and found and impreited.   The pleasunt think at their friends here with my $$y. It was adrile too. It is in a Lint.&&                                                                         \n",
      "----\n"
     ]
    }
   ],
   "source": [
    "for t in [0.5, 0.75, 1., 1.25, 1.5, 2]:\n",
    "    print '\\n\\nTemreture = ', t\n",
    "    for seed in ['#[1]', '#[3]', '#[5]']:\n",
    "        generate_sample(seed_phrase=seed, n_snippets=10, t=t)"
   ]
  },
  {
   "cell_type": "code",
   "execution_count": 49,
   "metadata": {
    "collapsed": false
   },
   "outputs": [
    {
     "data": {
      "text/plain": [
       "4"
      ]
     },
     "execution_count": 49,
     "metadata": {},
     "output_type": "execute_result"
    }
   ],
   "source": [
    "2+2"
   ]
  },
  {
   "cell_type": "code",
   "execution_count": null,
   "metadata": {
    "collapsed": true
   },
   "outputs": [],
   "source": []
  }
 ],
 "metadata": {
  "anaconda-cloud": {},
  "kernelspec": {
   "display_name": "Python [default]",
   "language": "python",
   "name": "python2"
  },
  "language_info": {
   "codemirror_mode": {
    "name": "ipython",
    "version": 2
   },
   "file_extension": ".py",
   "mimetype": "text/x-python",
   "name": "python",
   "nbconvert_exporter": "python",
   "pygments_lexer": "ipython2",
   "version": "2.7.12"
  }
 },
 "nbformat": 4,
 "nbformat_minor": 2
}
