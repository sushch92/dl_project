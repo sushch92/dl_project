{
 "cells": [
  {
   "cell_type": "code",
   "execution_count": 1,
   "metadata": {
    "collapsed": false
   },
   "outputs": [],
   "source": [
    "import pandas as pd\n",
    "import numpy as np\n",
    "import theano\n",
    "import theano.tensor as T\n",
    "import lasagne\n",
    "import os\n",
    "import re\n",
    "import time\n",
    "\n",
    "import matplotlib.pyplot as plt\n",
    "%matplotlib inline"
   ]
  },
  {
   "cell_type": "code",
   "execution_count": 2,
   "metadata": {
    "collapsed": false
   },
   "outputs": [],
   "source": [
    "if os.path.exists('business.json'):\n",
    "    pass\n",
    "else:\n",
    "    !wget https://s3.amazonaws.com/cloudfinalprojectsubmission/business.json\n",
    "\n",
    "if os.path.exists('review.json'):\n",
    "    pass\n",
    "else:\n",
    "    !wget https://s3.amazonaws.com/cloudfinalprojectsubmission/review.json"
   ]
  },
  {
   "cell_type": "code",
   "execution_count": 3,
   "metadata": {
    "collapsed": false
   },
   "outputs": [],
   "source": [
    "def read_data():\n",
    "    chunk_size = 1000\n",
    "    business_reader = pd.read_table('business.json', header=None, chunksize=chunk_size)\n",
    "    categories = pd.DataFrame()\n",
    "\n",
    "    for i, chunks in enumerate(business_reader):\n",
    "\n",
    "        start_index = chunk_size * i\n",
    "\n",
    "        for index in range(start_index, start_index + len(chunks)):\n",
    "\n",
    "            data_json = pd.read_json(chunks[0][index], typ='series')\n",
    "            # define set of USA cities for loading data\n",
    "            if data_json['city'] in ['Pittsburgh', 'Charlotte', 'Urbana-Champaign',\n",
    "                                     'Phoenix', 'Las Vegas', 'Madison']:\n",
    "                categories = categories.append(data_json[['business_id', 'categories',\n",
    "                                                          'name', 'review_count']], ignore_index=True)\n",
    "\n",
    "    categories = categories.drop_duplicates('business_id')\n",
    "    categories = categories.set_index('business_id')\n",
    "\n",
    "\n",
    "    review_reader = pd.read_table('review.json', header=None, chunksize=chunk_size)\n",
    "    reviews_df = pd.DataFrame()\n",
    "\n",
    "    for i, chunks in enumerate(review_reader):\n",
    "\n",
    "        start_index = chunk_size * i\n",
    "        for index in range(start_index, start_index + len(chunks)):\n",
    "            data_json = pd.read_json(chunks[0][index], typ='series')\n",
    "            bus_id = data_json['business_id']\n",
    "            if (bus_id in categories.index.values) and (u'Restaurants' in categories.loc[bus_id].categories):\n",
    "                reviews_df = reviews_df.append(data_json[['text', 'stars']], ignore_index=True)\n",
    "\n",
    "    reviews_df.to_csv('reviews.csv', encoding='utf-8')\n",
    "    categories.to_csv('categories.csv', encoding='utf-8')\n",
    "    \n",
    "    return reviews_df, categories"
   ]
  },
  {
   "cell_type": "code",
   "execution_count": 5,
   "metadata": {
    "collapsed": false
   },
   "outputs": [],
   "source": [
    "if os.path.exists('reviews.csv') and os.path.exists('categories.csv'):\n",
    "    reviews_df = pd.read_csv('reviews.csv', index_col=0)\n",
    "    categories = pd.read_csv('categories.csv', index_col=0)\n",
    "else:\n",
    "    reviews_df, categories = read_data()"
   ]
  },
  {
   "cell_type": "code",
   "execution_count": 6,
   "metadata": {
    "collapsed": false
   },
   "outputs": [
    {
     "data": {
      "text/html": [
       "<div>\n",
       "<table border=\"1\" class=\"dataframe\">\n",
       "  <thead>\n",
       "    <tr style=\"text-align: right;\">\n",
       "      <th></th>\n",
       "      <th>categories</th>\n",
       "      <th>name</th>\n",
       "      <th>review_count</th>\n",
       "    </tr>\n",
       "    <tr>\n",
       "      <th>business_id</th>\n",
       "      <th></th>\n",
       "      <th></th>\n",
       "      <th></th>\n",
       "    </tr>\n",
       "  </thead>\n",
       "  <tbody>\n",
       "    <tr>\n",
       "      <th>QoDa50dc7g62xciFygXB9w</th>\n",
       "      <td>[Veterinarians, Pets]</td>\n",
       "      <td>Greentree Animal Clinic</td>\n",
       "      <td>7.0</td>\n",
       "    </tr>\n",
       "    <tr>\n",
       "      <th>wqu7ILomIOPSduRwoWp4AQ</th>\n",
       "      <td>[Breakfast &amp; Brunch, American (Traditional), D...</td>\n",
       "      <td>Denny's</td>\n",
       "      <td>16.0</td>\n",
       "    </tr>\n",
       "    <tr>\n",
       "      <th>8QlnAcjGE6dgfKTVoxrPvQ</th>\n",
       "      <td>[American (Traditional), Comfort Food, Caterer...</td>\n",
       "      <td>Boston Market</td>\n",
       "      <td>3.0</td>\n",
       "    </tr>\n",
       "    <tr>\n",
       "      <th>xxWFOD46ubTSF3nPRM19BA</th>\n",
       "      <td>[Health &amp; Medical, Periodontists, Dentists, Or...</td>\n",
       "      <td>Emmert Dental Associates</td>\n",
       "      <td>6.0</td>\n",
       "    </tr>\n",
       "    <tr>\n",
       "      <th>8Nm_jcCYtMXYW0ODSHDiXA</th>\n",
       "      <td>[Seafood, Steakhouses, Japanese, Restaurants]</td>\n",
       "      <td>Sapporo Japanese Steakhouse</td>\n",
       "      <td>10.0</td>\n",
       "    </tr>\n",
       "  </tbody>\n",
       "</table>\n",
       "</div>"
      ],
      "text/plain": [
       "                                                               categories  \\\n",
       "business_id                                                                 \n",
       "QoDa50dc7g62xciFygXB9w                              [Veterinarians, Pets]   \n",
       "wqu7ILomIOPSduRwoWp4AQ  [Breakfast & Brunch, American (Traditional), D...   \n",
       "8QlnAcjGE6dgfKTVoxrPvQ  [American (Traditional), Comfort Food, Caterer...   \n",
       "xxWFOD46ubTSF3nPRM19BA  [Health & Medical, Periodontists, Dentists, Or...   \n",
       "8Nm_jcCYtMXYW0ODSHDiXA      [Seafood, Steakhouses, Japanese, Restaurants]   \n",
       "\n",
       "                                               name  review_count  \n",
       "business_id                                                        \n",
       "QoDa50dc7g62xciFygXB9w      Greentree Animal Clinic           7.0  \n",
       "wqu7ILomIOPSduRwoWp4AQ                      Denny's          16.0  \n",
       "8QlnAcjGE6dgfKTVoxrPvQ                Boston Market           3.0  \n",
       "xxWFOD46ubTSF3nPRM19BA     Emmert Dental Associates           6.0  \n",
       "8Nm_jcCYtMXYW0ODSHDiXA  Sapporo Japanese Steakhouse          10.0  "
      ]
     },
     "execution_count": 6,
     "metadata": {},
     "output_type": "execute_result"
    }
   ],
   "source": [
    "categories.head()"
   ]
  },
  {
   "cell_type": "code",
   "execution_count": 7,
   "metadata": {
    "collapsed": false
   },
   "outputs": [
    {
     "data": {
      "text/html": [
       "<div>\n",
       "<table border=\"1\" class=\"dataframe\">\n",
       "  <thead>\n",
       "    <tr style=\"text-align: right;\">\n",
       "      <th></th>\n",
       "      <th>stars</th>\n",
       "      <th>text</th>\n",
       "    </tr>\n",
       "  </thead>\n",
       "  <tbody>\n",
       "    <tr>\n",
       "      <th>0</th>\n",
       "      <td>4.0</td>\n",
       "      <td>Went for breakfast on 6/16/14. We received ver...</td>\n",
       "    </tr>\n",
       "    <tr>\n",
       "      <th>1</th>\n",
       "      <td>5.0</td>\n",
       "      <td>I love their stakes and i come here every week...</td>\n",
       "    </tr>\n",
       "    <tr>\n",
       "      <th>2</th>\n",
       "      <td>5.0</td>\n",
       "      <td>Perfect time with hubby, after work which is 4...</td>\n",
       "    </tr>\n",
       "    <tr>\n",
       "      <th>3</th>\n",
       "      <td>5.0</td>\n",
       "      <td>This location never disappoints!! Food is alwa...</td>\n",
       "    </tr>\n",
       "    <tr>\n",
       "      <th>4</th>\n",
       "      <td>3.0</td>\n",
       "      <td>Dude... it's Denny's. It's excellent drunk foo...</td>\n",
       "    </tr>\n",
       "  </tbody>\n",
       "</table>\n",
       "</div>"
      ],
      "text/plain": [
       "   stars                                               text\n",
       "0    4.0  Went for breakfast on 6/16/14. We received ver...\n",
       "1    5.0  I love their stakes and i come here every week...\n",
       "2    5.0  Perfect time with hubby, after work which is 4...\n",
       "3    5.0  This location never disappoints!! Food is alwa...\n",
       "4    3.0  Dude... it's Denny's. It's excellent drunk foo..."
      ]
     },
     "execution_count": 7,
     "metadata": {},
     "output_type": "execute_result"
    }
   ],
   "source": [
    "reviews_df.head()"
   ]
  },
  {
   "cell_type": "code",
   "execution_count": 8,
   "metadata": {
    "collapsed": false
   },
   "outputs": [],
   "source": [
    "start_token = '#'\n",
    "end_token = '&'\n",
    "reviews = reviews_df['text'].values\n",
    "reviews = [re.sub(\"[0-9]\", \"$\", x) for x in reviews]\n",
    "reviews = [re.sub(\"[^a-zA-Z$ .,!]\", \"\", x) for x in reviews]\n",
    "reviews = [review + end_token for review in reviews]\n",
    "reviews = [start_token + '[' + str(int(star)) + ']' + review\n",
    "           for review, star in zip(reviews, reviews_df.stars.values)]"
   ]
  },
  {
   "cell_type": "code",
   "execution_count": 9,
   "metadata": {
    "collapsed": false
   },
   "outputs": [
    {
     "data": {
      "text/plain": [
       "'#[4]Went for breakfast on $$$$$. We received very good service and meal came within a few minutes.Waitress could have smiled more but was friendly. I had a Grand Slam... it was more than enough food. Meal was very tasty... We will definitely go back. It is a popular Dennys.&'"
      ]
     },
     "execution_count": 9,
     "metadata": {},
     "output_type": "execute_result"
    }
   ],
   "source": [
    "reviews[0]"
   ]
  },
  {
   "cell_type": "code",
   "execution_count": 10,
   "metadata": {
    "collapsed": false
   },
   "outputs": [
    {
     "name": "stdout",
     "output_type": "stream",
     "text": [
      "('n_tokens = ', 66)\n"
     ]
    }
   ],
   "source": [
    "#all unique characters go here\n",
    "tokens = list(set(\"\".join(reviews)))\n",
    "print ('n_tokens = ', len(tokens))"
   ]
  },
  {
   "cell_type": "code",
   "execution_count": 11,
   "metadata": {
    "collapsed": true
   },
   "outputs": [],
   "source": [
    "#!token_to_id = <dictionary of symbol -> its identifier (index in tokens list)>\n",
    "token_to_id = {t:i for i,t in enumerate(tokens)}\n",
    "\n",
    "#!id_to_token = < dictionary of symbol identifier -> symbol itself>\n",
    "id_to_token = {i:t for i,t in enumerate(tokens)}"
   ]
  },
  {
   "cell_type": "code",
   "execution_count": 12,
   "metadata": {
    "collapsed": false
   },
   "outputs": [],
   "source": [
    "n_chars = 100\n",
    "reviews_ix = list(map(lambda review: list(map(token_to_id.get, review)), reviews))\n",
    "\n",
    "#crop long names and pad short ones\n",
    "for i in range(len(reviews_ix)):\n",
    "    reviews_ix[i] = reviews_ix[i][:n_chars] + reviews_ix[i][-1:]  #crop too long\n",
    "    \n",
    "    if len(reviews_ix[i]) < n_chars + 1:\n",
    "        reviews_ix[i] += [token_to_id[\" \"]] * (n_chars - len(reviews_ix[i]) + 1) #pad too short\n",
    "\n",
    "assert len(set(map(len, reviews_ix)))==1\n",
    "\n",
    "reviews_ix = np.array(reviews_ix)"
   ]
  },
  {
   "cell_type": "markdown",
   "metadata": {},
   "source": [
    "## Keras model"
   ]
  },
  {
   "cell_type": "code",
   "execution_count": 13,
   "metadata": {
    "collapsed": false
   },
   "outputs": [
    {
     "name": "stderr",
     "output_type": "stream",
     "text": [
      "Using TensorFlow backend.\n"
     ]
    }
   ],
   "source": [
    "from keras.models import Sequential\n",
    "from keras.layers import *\n",
    "from keras.callbacks import ModelCheckpoint\n",
    "from keras.utils import np_utils"
   ]
  },
  {
   "cell_type": "code",
   "execution_count": 14,
   "metadata": {
    "collapsed": true
   },
   "outputs": [],
   "source": [
    "text = reviews_ix[:1000].ravel()"
   ]
  },
  {
   "cell_type": "code",
   "execution_count": 15,
   "metadata": {
    "collapsed": false
   },
   "outputs": [
    {
     "name": "stdout",
     "output_type": "stream",
     "text": [
      "('nb sequences:', 100970)\n"
     ]
    }
   ],
   "source": [
    "seq_len = 30\n",
    "step = 1\n",
    "\n",
    "sentences = []\n",
    "next_chars_id = []\n",
    "for i in range(0, text.shape[0] - seq_len, step):\n",
    "    sentences.append(text[i: i + seq_len])\n",
    "    next_chars_id.append(text[i + seq_len])\n",
    "print('nb sequences:', len(sentences))"
   ]
  },
  {
   "cell_type": "code",
   "execution_count": 16,
   "metadata": {
    "collapsed": false
   },
   "outputs": [],
   "source": [
    "X = np.zeros((len(sentences), seq_len, len(tokens)), dtype=np.bool)\n",
    "y = np.zeros((len(sentences), len(tokens)), dtype=np.bool)\n",
    "for i, sentence in enumerate(sentences):\n",
    "    for t, char_id in enumerate(sentence):\n",
    "        X[i, t, char_id] = 1\n",
    "    y[i, next_chars_id[i]] = 1"
   ]
  },
  {
   "cell_type": "code",
   "execution_count": 17,
   "metadata": {
    "collapsed": false
   },
   "outputs": [],
   "source": [
    "# define the LSTM model\n",
    "model = Sequential()\n",
    "model.add(LSTM(256, input_shape=(X.shape[1], X.shape[2]), return_sequences=True))\n",
    "model.add(Dropout(0.2))\n",
    "model.add(LSTM(256))\n",
    "model.add(Dropout(0.2))\n",
    "model.add(Dense(y.shape[1], activation='softmax'))\n",
    "# load the network weights\n",
    "if os.path.exists('keras_weights.npz'):\n",
    "    model.load_weights('keras_weights.npz')\n",
    "model.compile(loss='categorical_crossentropy', optimizer='adam')"
   ]
  },
  {
   "cell_type": "code",
   "execution_count": null,
   "metadata": {
    "collapsed": false,
    "scrolled": false
   },
   "outputs": [
    {
     "name": "stdout",
     "output_type": "stream",
     "text": [
      "Epoch 1/50\n",
      "Epoch 00000: loss improved from inf to 2.46392, saving model to keras_weights.npz\n",
      "269s - loss: 2.4639\n",
      "Epoch 2/50\n",
      "Epoch 00001: loss improved from 2.46392 to 1.83893, saving model to keras_weights.npz\n",
      "269s - loss: 1.8389\n",
      "Epoch 3/50\n"
     ]
    }
   ],
   "source": [
    "filepath=\"keras_weights.npz\"\n",
    "checkpoint = ModelCheckpoint(filepath, monitor='loss', verbose=1, save_best_only=True, mode='min')\n",
    "callbacks_list = [checkpoint]\n",
    "\n",
    "# fit the model\n",
    "model.fit(X, y, epochs=50, batch_size=64, callbacks=callbacks_list, verbose=2)"
   ]
  },
  {
   "cell_type": "code",
   "execution_count": 18,
   "metadata": {
    "collapsed": false
   },
   "outputs": [],
   "source": [
    "def sample(preds, temperature=1.0):\n",
    "    # helper function to sample an index from a probability array\n",
    "    preds = np.asarray(preds).astype('float64')\n",
    "    preds = np.log(preds) / temperature\n",
    "    exp_preds = np.exp(preds)\n",
    "    preds = exp_preds / np.sum(exp_preds)\n",
    "    probas = np.random.multinomial(1, preds, 1)\n",
    "    return np.argmax(probas)\n",
    "\n",
    "def generate_sample_keras(seed_phrase=None, N=n_chars, n_snippets=1, t=1.0):\n",
    "    '''\n",
    "    The function generates text given a phrase of length at least SEQ_LENGTH.\n",
    "        \n",
    "    parameters:\n",
    "        sample_fun - max_ or proportional_sample_fun or whatever else you implemented\n",
    "        \n",
    "        The phrase is set using the variable seed_phrase\n",
    "\n",
    "        The optional input \"N\" is used to set the number of characters of text to predict.     \n",
    "    '''\n",
    "    if seed_phrase is None:\n",
    "        seed_phrase=start_token\n",
    "    if len(seed_phrase) > seq_len:\n",
    "        seed_phrase = seed_phrase[:seq_len]\n",
    "    assert type(seed_phrase) is str\n",
    "    \n",
    "    for s in range(n_snippets):\n",
    "        generated = ''\n",
    "        sentence = seed_phrase\n",
    "        generated += sentence\n",
    "        \n",
    "        for i in range(N):\n",
    "            x = np.zeros((1, seq_len, len(tokens)))\n",
    "            for j in range(seq_len):\n",
    "                x[0, j, token_to_id[sentence[j]]] = 1.\n",
    "#             if len(sentence) < 30:\n",
    "#                 temp = np.zeros((1, 1, len(tokens)))\n",
    "#                 temp[0, 0, token_to_id[' ']] = 1.\n",
    "#                 temp = np.repeat(temp, seq_len - len(sentence), axis=1)\n",
    "#                 x = np.hstack((temp, x[:, :len(sentence), :]))\n",
    "\n",
    "            preds = model.predict(x, verbose=0)[0]\n",
    "            next_index = sample(preds, t)\n",
    "            next_char = id_to_token[next_index]\n",
    "\n",
    "            generated += next_char\n",
    "            sentence = sentence[1:] + next_char\n",
    "    \n",
    "        print(generated)"
   ]
  },
  {
   "cell_type": "code",
   "execution_count": 61,
   "metadata": {
    "collapsed": false,
    "scrolled": false
   },
   "outputs": [
    {
     "name": "stdout",
     "output_type": "stream",
     "text": [
      "\n",
      "\n",
      "Temreture =  0.5\n",
      "#[5]Lets just start with the entre&#[4]I used to sit any out for the ambian&#[4]One of the best coffee Ive ever had.  Some of the \n",
      "#[5]Lets just start with the entre&#[4]I like this place comfy or quaint, which is a nice little place in the reasonable prices, i\n",
      "#[5]Lets just start with the entre&#[4]I love this place. I have been here two time first several attespated restaurant.  The dist\n",
      "#[5]Lets just start with the entre&#[4]I love this place. The food was gr&#[3]This place has some of the worst birthday last year.\n",
      "#[5]Lets just start with the entire caff elate to go something and do love the Big Burrito birthday meal voucher in the mail, and \n",
      "#[5]Lets just start with the enjoy, cheese was fast and the coffee and annoying service and ambiance was fabulous.  This place is \n",
      "#[5]Lets just start with the entre&#[5]Casbah is great and service was disappoi&#[4]I went to Casbah for a very lackluster Mothe s\n",
      "#[5]Lets just start with the entre&#[4]I love this place. I went to Pinos that heard it as about their chai from scratchrecommen&#\n",
      "#[5]Lets just start with the enjoy, which is an amazing.  I had the Buggre menu fresh ingreatenial staff, great coffee. No mean is\n",
      "#[5]Lets just start with the entre&#[4]I like the atmosphere hippie  indy &#[5]I was somewhat prived before and the service and am\n",
      "#[3]Food was really okay. I ordered the day of us went to the Casbah for a great place to some tran coffee shop that made that the\n",
      "#[3]Food was really okay. I ordered the dining experience at Casbah yesterday. Despite having a friends birthday on a regular basi\n",
      "#[3]Food was really okay. I ordered the day of famolin&#[4]When scopped by a few times and I have been goi&#[4]Tasty here will be \n",
      "#[3]Food was really okay. I ordered $ pizzas from here. We started out and service was great. Appitizers been an umportentable for\n",
      "#[3]Food was really okay. I ordered the day are service and ambiance is cardy Tasty t&#[2]I dinner and drinks today to stilk while\n",
      "#[3]Food was really okay. I ordered the  here and I cant say this place had a winder on a glute for dinner, and hipster crowd area\n",
      "#[3]Food was really okay. I ordered $ pizzas from here. The chairs and take out from NYC who come here ap&#[5]Pizza Perfectta bail\n",
      "#[3]Food was really okay. I ordered the day are vegetarian or vegetarian restaurant.  Thats an u&#[5]I like the atmosphere because\n",
      "#[3]Food was really okay. I ordered the day af with a few times and I have ever been to. We have been coming as the other evening.\n",
      "#[3]Food was really okay. I ordered $ pizzas from here. Casbah is a great place to get your vegetarianvegan eat on.  Brunch is a g\n",
      "#[1]I rarely eat Chinese and was extrated.  The food is amazing. They servesal bit disappointed!  We were surprised to go back and\n",
      "#[1]I rarely eat Chinese and was told that they did not get in the area. Friendly ender on the but it cafe enough.  The food was a\n",
      "#[1]I rarely eat Chinese and was excellent. The service is amazing. We ordered stuffed crowded, great service and ambiance was fab\n",
      "#[1]I rarely eat Chinese and was told that they did not expect to find it. We went on to make a pa&#[5]Casbah was great food and J\n",
      "#[1]I rarely eat Chinese and was told that they deliver options. We had our first date here. The selection of one of the first res\n",
      "#[1]I rarely eat Chinese and was not disappointed.  Bo&#[3]Wednesday is Pittsburgh and dinner and arrived to go to Buffalo Blues t\n",
      "#[1]I rarely eat Chinese and was not disappointed! No  The wait staff &#[2]We went here for a fantastic place. I moved to chats th\n",
      "#[1]I rarely eat Chinese and was the good that and cozy ambiance when I go somewhere esp&#[3]pretty good very hidden and my boyfri\n",
      "#[1]I rarely eat Chinese and was told that they do hope of the much expecting to work the drink who are very nice and are really i\n",
      "#[1]I rarely eat Chinese and was excellent and the dinner. The service is fantastic, and the country burrito is&#[2]The Quiet Stor\n",
      "\n",
      "\n",
      "Temreture =  0.75\n",
      "#[5]Lets just start with the entre&#[4]I need to go through the best thinds about this place list of where and dinner today to thi\n",
      "#[5]Lets just start with the entree without a reservation for $$ minimum! He are its little restaurant try the price. The food is \n",
      "#[5]Lets just start with the enjoy bad pizza and had the restaurant is a little place. I make the octapion options.  Since wonderf\n",
      "#[5]Lets just start with the enjoy about Quiet Storm is curned becoming my nice and are really interesting good here for &#[5]I li\n",
      "#[5]Lets just start with the entre&#[5]I like this place for delivery for moving my restaurant in Pittsburgh Ive never been to. We\n",
      "#[5]Lets just start with the entre&#[4]I like this place an awesome but not worth the price.  The wait&#[4]Solid food. I love this\n",
      "#[5]Lets just start with the entre&#[3]I used to stumble here for the friendly years on my wife and I could give etperienced with \n",
      "#[5]Lets just start with the entre. I cant say the food, but both fresh wath the tables. I have only every heard to write a reafon\n",
      "#[5]Lets just start with the entre&#[4]I love this place. Their pizzas are bar from the Quiet Storm and very nice and are really n\n",
      "#[5]Lets just start with the extra &#[4]PROS Some of their plate was moving times and it was amazing. He after having a very late \n",
      "#[3]Food was really okay. I ordered the the  we orders on a Fatten like the portions. Over priced food. Very small menu dinner fro\n",
      "#[3]Food was really okay. I ordered $ probable is the best Ive ever had.  Some of the first time. The chicken was also when we ver\n",
      "#[3]Food was really okay. I ordered the day all changes seasonaly good.&&               #[5]On my driver did quite pricey.&&      \n",
      "#[3]Food was really okay. I ordered the delivery was quick, the park, stray bad for corner from my pornit&#[1]Pasta festival, I tr\n",
      "#[3]Food was really okay. I ordered the day of us went to this mootall Diners. I have had pretty good tood. The cheese pastan fres\n",
      "#[3]Food was really okay. I ordered the delivery for me, Mediterraneat.  It lo&#[5]Oaste place in Pittsburgh, I have read the &#[3\n",
      "#[3]Food was really okay. I ordered from here many like this in this past Tuesday evening.&#[3]I went to the Big Burrito restauran\n",
      "#[3]Food was really okay. I ordered the driver&#[4]Ive been here twice now and boy got meat, and were solid five star coffee joi&#\n",
      "#[3]Food was really okay. I ordered the daybe restaurant is fantastic, an appetizer breakfast weild it and &#[5]My husband and I w\n",
      "#[3]Food was really okay. I ordered the Saturday night it to Before a tradition for this place. The atmosphereh chicken amay are a\n",
      "#[1]I rarely eat Chinese and was the g&#[5]I love this place. Their staff coffee house at the Quiet Storm. For since my first visi\n",
      "#[1]I rarely eat Chinese and was told that they did in a long time. Worth every pizza place in Pittsburgh thats to roo&#[5]The foo\n",
      "#[1]I rarely eat Chinese and was excellent and having a friend, but they are outerally the wings were a keeper.  I would not like \n",
      "#[1]I rarely eat Chinese and was told that it&#[5]This is the brunch healter so I had the not bas. The food is very nice, every Fr\n",
      "#[1]I rarely eat Chinese and would definitely got the Coop. Good pizza and salads another review, but I had no idea it was a servi\n",
      "#[1]I rarely eat Chinese and would definitely got. Portuguese for an its family on a cold Friday night in Pittsburgh where you can\n",
      "#[1]I rarely eat Chinese and wish we had never got eaten that a reservation for delivery place to stayfe it est end to me the serv\n",
      "#[1]I rarely eat Chinese and well in town. Dont stop by quick selection of the service which like this place. The crust they use f\n",
      "#[1]I rarely eat Chinese and was very impressed with the chicken salads and had the coupon they make a decent ambiance that high a\n",
      "#[1]I rarely eat Chinese and wasnt too looks. Yes.  This is the worst f&#[5]Tasty hore bar on a regular experience. How some time \n",
      "\n",
      "\n",
      "Temreture =  1.0\n",
      "#[5]Lets just start with the entire casual atmosphere, is nice place to came here. We had a really awesome but the service was sup\n",
      "#[5]Lets just start with the entre&#[4]What it came for the Big Burrito birthday meal, great food, though I have gener&#[4]While i\n",
      "#[5]Lets just start with the enjoyed low like a recond not a fantit neighborhood very for the first time everited. Ive only hide a\n",
      "#[5]Lets just start with the eggs acan expensive for the eggs can b&#[5]My beffre d. Entrees and me to we visit this place a few, \n",
      "#[5]Lets just start with the easi for my tifes we went to Casbah for dinner on the menu, I got at. The hamburgers I have ever had.\n",
      "#[5]Lets just start with the enjoy, the front serves because it neasuage for its cool aupen ... You want just find this it of whic\n",
      "#[5]Lets just start with the entre&#[4]I stopped by here this past Tuesday evening.&#[3]I was miding the only pizza house and my f\n",
      "#[5]Lets just start with the enjoy about the &#[5]Antereding a few times and I have to just settle, net for tea shoul birthday nig\n",
      "#[5]Lets just start with the east end waiming w&#[4]Portuguese restaurant is a bit high for a place is crowded in the wort! classe\n",
      "#[5]Lets just start with the entre&#[4]I used to order from Big Burrito birthday morth and $ with the meal on but I very long time\n",
      "#[3]Food was really okay. I ordered $ pizzas but never had bread. They ate it was over, a nice of parking or dountime and stock. E\n",
      "#[3]Food was really okay. I ordered the day&#[3]The food book was ging coffee. One of my favorite for it about grabled a latte whi\n",
      "#[3]Food was really okay. I ordered the Singapore chow fun, and the chance to visit this that this is some of the quality of them \n",
      "#[3]Food was really okay. I ordered the vegetarian food in the co&#[3]As a salid was conninches, is not work there word, but to re\n",
      "#[3]Food was really okay. I ordered the driver&#[4]Ive been here on the time while unique. It has good for the first time ever the\n",
      "#[3]Food was really okay. I ordered that Casbah is in a samolire, which is a month cappuccino. The complete well shop! I love the \n",
      "#[3]Food was really okay. I ordered the service and great service. &#[5]We stried food, though some of the city  memorally the fas\n",
      "#[3]Food was really okay. I ordered the &#[3]Pizza Probably orear service, neighborhood get&#[5]Four walk from my boyfriend recomm\n",
      "#[3]Food was really okay. I ordered some time worly negater&#[5]The food here is really cool.Im not from the Quiet Storm. Delivery\n",
      "#[3]Food was really okay. I ordered the &#[3]Not bad food and friends dinner, STOY  this place was great! The bust di&#[2]I made l\n",
      "#[1]I rarely eat Chinese and wry tooked this place had was a little cramped in the shady&#[4]I called this restaurant would are ov\n",
      "#[1]I rarely eat Chinese and was the g&#[5]I like this place a couple of find in the who come of a time and had to come here. We l\n",
      "#[1]I rarely eat Chinese and was excellent! The grulen and between a disturb&#[4]I went to Casbah after choices. I have a decent s\n",
      "#[1]I rarely eat Chinese and was the&#[5]It live in the enticety on callfuled by neighborhood, it &#[3]When you recently delivers \n",
      "#[1]I rarely eat Chinese and was know it with of the class the Carbo&#[3]They have a group and the decor and while into tho&#[5]Gr\n",
      "#[1]I rarely eat Chinese and well supen to eat with a chance and trip to Pittsburgh for Easter stuff my fast, Grden we m&#[4]We kn\n",
      "#[1]I rarely eat Chinese and would fried for a chaice to visit.Best toff oftald to ourrborgay back here for a flight and mostly th\n",
      "#[1]I rarely eat Chinese and was told that they &#[2]This was the place I have been here a number of times for dinner and swick fr\n",
      "#[1]I rarely eat Chinese and was excellent atmosphere, the chairs and tables. You gotta vegetarian dining fr&#[4]I like this place\n",
      "#[1]I rarely eat Chinese and would definitely combeater a&#[1]My fiance and I like the food. That said, I had great confinded of g\n",
      "\n",
      "\n",
      "Temreture =  1.25\n",
      "#[5]Lets just start with the elsc&#[3]My thing coffee shop in Pittsburgh, which is aOazing.  Excellent around down  Ve&#[5]Well it\n",
      "#[5]Lets just start with the entre&#[4]Minutellos sconvenient to have a nice hea I would depidating experiences.Amm to make me fro\n",
      "#[5]Lets just start with the entire casual pizza in Shadyside is in S&#[5]The buffalo chicken stracking ordering styighty for SAtu\n",
      "#[5]Lets just start with the entre&#[4]I like this place say I going my parenies it diestable restaurant.  The compani&#[4]Would a\n",
      "#[5]Lets just start with the entre&#[4]I a amazing! Great place to grow after delivery here with some.&#[4]I lote parting it to Gr\n",
      "#[5]Lets just start with the eatter hou since it was amazing.  Its one of the cheases to ese been around for two was  rea&#[5]A co\n",
      "#[5]Lets just start with the elst co of. CasbahsI fresh everything that arrived over the weekend. Very treated and would definitel\n",
      "#[5]Lets just start with the end for its try town what i mood. Visigied atay of for &#[3]Past was so pizza something better gryan \n",
      "#[5]Lets just start with the ent rea&#[4]I it is a vegetarian so a lot of a pepople of the cold when we fair flod in a coffee and \n",
      "#[5]Lets just start with the entre&#[4]I used to order from my ham and drinks food, recently &#[4]After a long time and I off saig\n",
      "#[3]Food was really okay. I ordered the dinner lust in the Eate The famolite outside stafpabke pittsburgh from just Vegetarian foo\n",
      "#[3]Food was really okay. I ordered the Quiet Storm because it &#[5]One of the best crust was away. Very trip to Casbah and each h\n",
      "#[3]Food was really okay. I ordered the Pittsburghs this place is &#[2]We went on a owhat be just is the home the tables. I have f\n",
      "#[3]Food was really okay. I ordered my delivery how w&#[1]To be for to Casbah for a neighborhood gem&&   #[5]The food here is amai\n",
      "#[3]Food was really okay. I ordered dounhts the take round of .&# 4]I got a food at Cafe Zinho when I know how but not made. I&#[1\n",
      "#[3]Food was really okay. I ordered twy the igh Cafe Zinho when I first a fantastic finitery given wings were o&#[5]I was peafed a\n",
      "#[3]Food was really okay. I ordered from here after restiovs. Ive been there to casbah with a second that the did from something o\n",
      "#[3]Food was really okay. I ordered $ pizzas for delivery. Love when this&#[5]The Quiet Stomm is good vegetariant ammisand it with\n",
      "#[3]Food was really okay. I ordered the service was adound&#[5]Very profestive group and enjoy the entrrees with a but with well b\n",
      "#[3]Food was really okay. I ordered during the two this place. The food was not too in taking, silc atmosphere. They are college l\n",
      "#[1]I rarely eat Chinese and were impressed with the food but hig&#[4]Servece for lunch at the Big purring and d&#[3]A lot of vege\n",
      "#[1]I rarely eat Chinese and well in the colorally, I dofe hour, the priz&h &#[5]The reenors that I well cooked in at $$$ pricly w\n",
      "#[1]I rarely eat Chinese and well inco.Ive get a vegetarian of Our of four!Wall Casbah is not babfalod, times, of toppe&#[1]This i\n",
      "#[1]I rarely eat Chinese and was not oan&#[5]This isnt 5o It $$ wing all more from we have not a sandwich.&&                    #[\n",
      "#[1]I rarely eat Chinese and write the do home looked in town.  Co&#[5]Awcite say I disappointment!!!!  GAgete service, but I rran\n",
      "#[1]I rarely eat Chinese and would definitely Pizza Jomemon, Chunbme h&#[5]One of the worst pizza and they&#[4]$ like my seconders\n",
      "#[1]I rarely eat Chinese and was expensive, I fle&#[5]Another regularss untre with two clades are but pizza spot.  Ous of gouders,\n",
      "#[1]I rarely eat Chinese and will defi&#[5]I dont review of Quiet Storm ordering meatI one produceP&#[4]Another dinner on Saturban\n",
      "#[1]I rarely eat Chinese and wasnt completely improved about they are rude. Rude. I happen to stumble untretingively, which are su\n",
      "#[1]I rarely eat Chinese and would have thought that I am a huge. The maybe a desters in the world.  My boyfriend recently reaff&#\n",
      "\n",
      "\n",
      "Temreture =  1.5\n",
      "#[5]Lets just start with the el&#[5]Good stopped by Quiet Storm osners my family in the birthday and &#[2]Why daisadound down. Ill\n",
      "#[5]Lets just start with the eggplace from scace and cumple, tH semb&#[5]Oations of food at Buffalo Blues to be merely OK.  Reasom\n",
      "#[5]Lets just start with the elach, they do know this place now when it was visit Em, Pizza Before. Love it! Hews hands, &#[4]Quie\n",
      "#[5]Lets just start with the elrce.I went to Bibah, End it desigked&#[4]I love this place, its your enjoy a rame, and&#[3]Although\n",
      "#[5]Lets just start with the enar&#[5]My biffriend and I went here fo&#[5]We went here be the soup and or pasto here was that &#[2\n",
      "#[5]Lets just start with the east end.  Chicl on a badmy stiff was tweat, but they idet bartine&#[5]Gite light dinner, one expect \n",
      "#[5]Lets just start with the extra&e griendly people afters $$ inchose slipped by an earfiesdia for delivery helpLonrinigels.  We \n",
      "#[5]Lets just start with the eirgh&#[3]Nothing since at this weve and spicesoad areagood next to five Highland Park, and it is rea\n",
      "#[5]Lets just start with the entre $ because of the restaursnts $ unconble putzip op $$pm prix fixe just heartion &#[5]Wonderful i\n",
      "#[5]Lets just start with the entree.  I thouk for Refialt. Wing here for the fi&#[1]This place has stove because some&#[5]We decid\n",
      "#[3]Food was really okay. I ordered the Sunday at the eggs rever, thery, I went for free dinig&#[4]The have really got my stars., \n",
      "#[3]Food was really okay. I ordered the their Sunday even. Their since $ stars We were like fan you spices a few times in the said\n",
      "#[3]Food was really okay. I ordered&#[5]Excellent with, greative pizza in the ehement brunch here, tool. The ambinor&#[5]Great puz\n",
      "#[3]Food was really okay. I ordered the  easter seaded $ spor that Me, feeling w&#[3]I would make a $dorily becoming my wife #&#[4\n",
      "#[3]Food was really okay. I ordered to ore fa take.und for.&#[2]We arrived lime thene werk eggplan&#[5]One of the better here on m\n",
      "#[3]Food was really okay. I ordered romain foo&#[g]This place deceptive that I am in a charge&#[5]My&enterlens like this place to \n",
      "#[3]Food was really okay. I ordered the&#[4]Moved for BYCB, C#[4]Conestless came to Pittsburgh, they deliver and citeraty and woul\n",
      "#[3]Food was really okay. I ordered the just are bit not more that they hap pu&#[4]I loser&#[5]Eve&  Since ola choices ordered a c\n",
      "#[3]Food was really okay. I ordered s&#[4]Im good both brunch place to love friends or called that thes n$ vadying service, bothI \n",
      "#[3]Food was really okay. I ordered their $$ probore. Ir my nicker.  It was excellent service of fice, exc&#[4]I came loints! My H\n",
      "#[1]I rarely eat Chinese and well in FracccDLing zefored, which is when Me and to sup arm between inPittsburgh but furning. , but \n",
      "#[1]I rarely eat Chinese and what &#[5]Phople this place! We know how this kpep waFta fer&#[4]Very mixpating offrick and will cide\n",
      "#[1]I rarely eat Chinese and wasnt just, mod th&#[3]Stoll xo pepperoni pizza, reasonaled. This very pretwy cilled dig that they pr\n",
      "#[1]I rarely eat Chinese and was the grubmy well. Sundried.The atmospheas decisive.  It has a Nietular stand since the  are very p\n",
      "#[1]I rarely eat Chinese and wasnt completely mnich, oncg oft it just a fittes and oand totally hef. Delice&#[G]Griends and read, \n",
      "#[1]I rarely eat Chinese and well inca Honoth&#[5]As the lats on Afatilu,, years looking. The much mitts one &#[5]Just realized th\n",
      "#[1]I rarely eat Chinese and was excellent is have&#[5]Yel! Iftired the odla experience was guncy. Fo&#[1]Take vegetarian werk on \n",
      "#[1]I rarely eat Chinese and was told $Mughtip &#[1]This place isnt is eveny night, who doesnt like it. ONly undinglade to meet a \n",
      "#[1]I rarely eat Chinese and were imasTove wald the n&#[5]A try the portions. One or gander enpirited and acpa staff oatto both fo\n",
      "#[1]I rarely eat Chinese and was more zar in $$&#[3]This corn bread is Pittsburgh.The restaurant week show that a di&#[5]Quiet Sto\n",
      "\n",
      "\n",
      "Temreture =  2\n",
      "#[5]Lets just start with the erecorm, not O, E&#[4]Woll!Werkeas portions. Pgroil stull while lunch. h&#[4]So when Piems! as on me \n",
      "#[5]Lets just start with the enjoy combyt&#[4]I out ffor a fnor  atot&#[z]CarbHaccomare DRyOGes, pool.T Gwe1p food. Noticed&#[4]I \n",
      "#[5]Lets just start with the eass, this is qual, b&#[4]All a whan loogs for SunhaPono great quie&#[4]This place what knew is a clu\n",
      "#[5]Lets just start with the easto fect. Quicke&#[1]I do late friends zid!Belafle wines to undenticmead, and we walk th&#[4]Ittos,\n",
      "#[5]Lets just start with the eggs&cIn p&#[1]Wedd an dont. pining xincen$ t&#[5]Good lettil the tast like your fol&#[4]Betterights \n",
      "#[5]Lets just start with the ether Creat justly. pr&#[4]I called qulint muckI, eppeYen, the my fast, $.F Fo&#[5]Gasie trapising. B\n",
      "#[5]Lets just start with the eniget, $$F&#[5]Moged for an eizither while cluscmith prom This is &#[4]fresh snigho, Murm!  thes mea\n",
      "#[5]Lets just start with the eathrousd confirmes in two, and it wore I am here from lu&#[5]erserbhil FaOl stmels poored Bear wings\n",
      "#[5]Lets just start with the erexorialy!&&               #[4]Great a1toun with parr ted dine. They are otheon, O5. One yem.  The w\n",
      "#[5]Lets just start with the eggss&#[3]Why Jusu clived apprecially vegetage goudget and Rextaybar for whichVa mopped, wills. nice \n",
      "#[3]Food was really okay. I ordered hu&#[2]Im notineausto fiend eal is very clonkich... Your review seem w&#[4]We tole while parkn\n",
      "#[3]Food was really okay. I ordered from here my. Ch&#I ]Pizza PvalecCDBino Food place nex&#[3]Day, My but ne cuffo&#[2]Good. Tide\n",
      "#[3]Food was really okay. I ordered&#[5]ON COO5 NoQ. Food has your maal to mode from Pinos about Pizza Pittsburgh 5Yun, really ill\n",
      "#[3]Food was really okay. I ordered groub my uesh exceret&#[5]There is rng just wingslic hegping thourh &#[5]Mortionel year jeass \n",
      "#[3]Food was really okay. I ordered snot in&#[4]My husband for Ciffo We ent upen dy tafe Lon sanday bffately &#[4]The wife least i\n",
      "#[3]Food was really okay. I ordered $. Pizzacon my selection pizza, not toge lugeh, buted toge years!stive just since app&#[5]Wont\n",
      "#[3]Food was really okay. I ordered&#[5]So&#[BTThlheI wasamon, really solid, up4ate was duncal, and my bedies are good eghtiverwal\n",
      "#[3]Food was really okay. I order a cha&#[4]Cant believe! Bout fourbs of . . , breatthing althougTEap some &#[2]WhrRever just Geen\n",
      "#[3]Food was really okay. I ordered the&##5]Quiet Storm good was evenyIve wede meat OO ND$ Urdoy bay. Whixe arvanting meat. The ma\n",
      "#[3]Food was really okay. I ordered two sEmed in a salaH Pittsburgh&#[4]Vinited by, because if am Ive mea&#[3]Wing an in$amoritery\n",
      "#[1]I rarely eat Chinese and wreccit&#[4]Its fastly fast whyre lo since that highed, same of meit. Qny ream from here l&#[4]Amarne\n",
      "#[1]I rarely eat Chinese and well mis&#[4]This very, the motho spuces Tust, usfteked., didch evez. For Cast hud. remember welthon \n",
      "#[1]I rarely eat Chinese and weyle will me overs din. that casbah, the brigh knownesbar crud els iY townt, this iasexd thrve gruli\n",
      "#[1]I rarely eat Chinese and was extra large and &#[5]Portenrers near a great quains, just  $ sume to thisbes, aube I smokt&#[4]Wi\n",
      "#[1]I rarely eat Chinese and whan expen. EveI inch&#[4]A &#[5]Food wan epthem when I must say, the Food ChEeme, wither impHs... Th\n",
      "#[1]I rarely eat Chinese and wasnu, but yis boofols. Yes ponfing to enough. You kfow are delicious ferstay and stiad is youlawally\n",
      "#[1]I rarely eat Chinese and was wonderful, expection, ons on.  I ne&#[4]Th&#[4]Not coust, alvent than enound, I kOat &#[5]On ope \n",
      "#[1]I rarely eat Chinese and what se&#[l]Tazza  Oulffiecs Sunday no ite pizza for FOr .5 conking&#[1]Suntrume waterich spluace.  M\n",
      "#[1]I rarely eat Chinese and wartestour nol your enoighing $$ and B&#[4]for the Mgibes and $ to 5umby , Yum. Its roalt my love sta\n",
      "#[1]I rarely eat Chinese and wnich isp, stric Ruding a bad cumder tlady evola&#[4]Reasoverare, , Oh px. Pasta ease place in tawe M\n"
     ]
    }
   ],
   "source": [
    "for t in [0.5, 0.75, 1., 1.25, 1.5, 2]:\n",
    "    print '\\n\\nTemreture = ', t\n",
    "    for seed_id in [1030, 5709, 10554]:\n",
    "        generate_sample_keras(seed_phrase=str(reviews[seed_id]), n_snippets=10, t=t)"
   ]
  },
  {
   "cell_type": "markdown",
   "metadata": {},
   "source": [
    "## Lasagne model"
   ]
  },
  {
   "cell_type": "code",
   "execution_count": 21,
   "metadata": {
    "collapsed": false
   },
   "outputs": [
    {
     "data": {
      "text/plain": [
       "(array([ 2802.,  2966.,  4493.,  8847.,  8660.]),\n",
       " array([ 1. ,  1.8,  2.6,  3.4,  4.2,  5. ]),\n",
       " <a list of 5 Patch objects>)"
      ]
     },
     "execution_count": 21,
     "metadata": {},
     "output_type": "execute_result"
    },
    {
     "data": {
      "image/png": "[encoded data removed]",
      "text/plain": [
       "<matplotlib.figure.Figure at 0x7f6d48284690>"
      ]
     },
     "metadata": {},
     "output_type": "display_data"
    }
   ],
   "source": [
    "plt.hist(reviews_df.stars.values, bins=5)"
   ]
  },
  {
   "cell_type": "code",
   "execution_count": 22,
   "metadata": {
    "collapsed": false
   },
   "outputs": [],
   "source": [
    "reviews_df = reviews_df.append(reviews_df[reviews_df.stars.values < 4.], ignore_index=True)"
   ]
  },
  {
   "cell_type": "code",
   "execution_count": 23,
   "metadata": {
    "collapsed": false
   },
   "outputs": [
    {
     "data": {
      "text/plain": [
       "(array([ 5604.,  5932.,  8986.,  8847.,  8660.]),\n",
       " array([ 1. ,  1.8,  2.6,  3.4,  4.2,  5. ]),\n",
       " <a list of 5 Patch objects>)"
      ]
     },
     "execution_count": 23,
     "metadata": {},
     "output_type": "execute_result"
    },
    {
     "data": {
      "image/png": "[encoded data removed]",
      "text/plain": [
       "<matplotlib.figure.Figure at 0x7f6d2826cdd0>"
      ]
     },
     "metadata": {},
     "output_type": "display_data"
    }
   ],
   "source": [
    "plt.hist(reviews_df.stars.values, bins=5)"
   ]
  },
  {
   "cell_type": "code",
   "execution_count": 24,
   "metadata": {
    "collapsed": true
   },
   "outputs": [],
   "source": [
    "input_sequence = T.matrix('token sequencea','int32')\n",
    "target_values = T.matrix('actual next token','int32')"
   ]
  },
  {
   "cell_type": "code",
   "execution_count": 25,
   "metadata": {
    "collapsed": true
   },
   "outputs": [],
   "source": [
    "from lasagne.layers import *"
   ]
  },
  {
   "cell_type": "code",
   "execution_count": 26,
   "metadata": {
    "collapsed": true
   },
   "outputs": [],
   "source": [
    "l_in = lasagne.layers.InputLayer(shape=(None, None), input_var=input_sequence)\n",
    "\n",
    "#!<Your neural network>\n",
    "#заменили буквы слова на векторы размера 15 (None,None,15) - output\n",
    "l_emb = EmbeddingLayer(l_in, len(tokens), 15) \n",
    "\n",
    "l_rnn = RecurrentLayer(l_emb, 100) #(None,None,50)\n",
    "l_rnn = LSTMLayer(l_rnn, 256) #(None,None,50)\n",
    "l_rnn = LSTMLayer(l_rnn, 256) #(None,None,50)\n",
    "\n",
    "#flatten batch and time to be compatible with feedforward layers (will un-flatten later)\n",
    "l_rnn_flat = lasagne.layers.reshape(l_rnn, (-1, l_rnn.output_shape[-1]))\n",
    "\n",
    "l_out = DenseLayer(l_rnn_flat, len(tokens), nonlinearity = T.nnet.softmax)"
   ]
  },
  {
   "cell_type": "code",
   "execution_count": 27,
   "metadata": {
    "collapsed": true
   },
   "outputs": [],
   "source": [
    "# Model weights\n",
    "weights = lasagne.layers.get_all_params(l_out, trainable=True)\n",
    "network_output = get_output(l_out)\n",
    "\n",
    "predicted_probabilities_flat = network_output\n",
    "correct_answers_flat = target_values.ravel()\n",
    "\n",
    "loss = lasagne.objectives.categorical_crossentropy(predicted_probabilities_flat,correct_answers_flat).mean()\n",
    "\n",
    "updates = lasagne.updates.adam(loss,weights)"
   ]
  },
  {
   "cell_type": "code",
   "execution_count": 28,
   "metadata": {
    "collapsed": false
   },
   "outputs": [
    {
     "name": "stderr",
     "output_type": "stream",
     "text": [
      "/home/novikov/anaconda2/envs/python_dl_img_captioning/lib/python2.7/site-packages/theano/tensor/basic.py:5130: UserWarning: flatten outdim parameter is deprecated, use ndim instead.\n",
      "  \"flatten outdim parameter is deprecated, use ndim instead.\")\n"
     ]
    }
   ],
   "source": [
    "#training\n",
    "train = theano.function([input_sequence, target_values], loss, updates=updates, allow_input_downcast=True)\n",
    "\n",
    "#computing loss without training\n",
    "compute_cost = theano.function([input_sequence, target_values], loss, allow_input_downcast=True)"
   ]
  },
  {
   "cell_type": "code",
   "execution_count": 29,
   "metadata": {
    "collapsed": true
   },
   "outputs": [],
   "source": [
    "#compile the function that computes probabilities for next token given previous text.\n",
    "\n",
    "#reshape back into original shape\n",
    "next_word_probas = network_output.reshape((input_sequence.shape[0], input_sequence.shape[1], len(tokens)))\n",
    "#predictions for next tokens (after sequence end)\n",
    "last_word_probas = next_word_probas[:,-1]\n",
    "probs = theano.function([input_sequence], last_word_probas, allow_input_downcast=True)"
   ]
  },
  {
   "cell_type": "code",
   "execution_count": 30,
   "metadata": {
    "collapsed": true
   },
   "outputs": [],
   "source": [
    "def generate_sample(seed_phrase=None, N=n_chars, t=1, n_snippets=1):\n",
    "    '''\n",
    "    The function generates text given a phrase of length at least SEQ_LENGTH.\n",
    "        \n",
    "    parameters:\n",
    "        sample_fun - max_ or proportional_sample_fun or whatever else you implemented\n",
    "        \n",
    "        The phrase is set using the variable seed_phrase\n",
    "\n",
    "        The optional input \"N\" is used to set the number of characters of text to predict.     \n",
    "    '''\n",
    "    if seed_phrase is None:\n",
    "        seed_phrase=start_token\n",
    "    if len(seed_phrase) > n_chars:\n",
    "        seed_phrase = seed_phrase[-n_chars:]\n",
    "    assert type(seed_phrase) is str\n",
    "\n",
    "    snippets = []\n",
    "    for _ in range(n_snippets):\n",
    "        sample_ix = []\n",
    "        x = [token_to_id.get(c,0) for c in seed_phrase]\n",
    "        x = np.array([x])\n",
    "\n",
    "        for i in range(N):\n",
    "            # Pick the character that got assigned the highest probability\n",
    "            p = probs(x).ravel()\n",
    "            p = p**t / np.sum(p**t)\n",
    "            ix = np.random.choice(np.arange(len(tokens)), p=p)\n",
    "            sample_ix.append(ix)\n",
    "\n",
    "            x = np.hstack((x[-n_chars+1:],[[ix]]))\n",
    "\n",
    "        random_snippet = seed_phrase + ''.join(id_to_token[ix] for ix in sample_ix)    \n",
    "        snippets.append(random_snippet)\n",
    "        \n",
    "    print(\"----\\n %s \\n----\" % ';\\n'.join(snippets))"
   ]
  },
  {
   "cell_type": "code",
   "execution_count": 31,
   "metadata": {
    "collapsed": true
   },
   "outputs": [],
   "source": [
    "def sample_batch(data, batch_size, n_chars=1):\n",
    "    \n",
    "    rows = data[np.random.randint(0, len(data), size=batch_size)]\n",
    "    \n",
    "    return rows[:,:-1], rows[:,1:]"
   ]
  },
  {
   "cell_type": "code",
   "execution_count": 32,
   "metadata": {
    "collapsed": true
   },
   "outputs": [],
   "source": [
    "if os.path.exists('lasagne_weights.npz'):\n",
    "    with np.load('lasagne_weights.npz') as f:\n",
    "        param_values = [f['arr_%d' % i] for i in range(len(f.files))]\n",
    "    lasagne.layers.set_all_param_values(l_out, param_values)"
   ]
  },
  {
   "cell_type": "code",
   "execution_count": 22,
   "metadata": {
    "collapsed": false,
    "scrolled": false
   },
   "outputs": [
    {
     "name": "stdout",
     "output_type": "stream",
     "text": [
      "Training ...\n",
      "Generated reviews\n",
      "----\n",
      " #21czyNVfhBC!RI[L]xoEMS45fi[NI,BDHUvjEbZUpXWORK,eTL!xrWRqu$ChwyHRte4rNr4fVRVj$31.jtdGVzu2WWbFShL.hH$] \n",
      "----\n",
      "Epoch 0 average loss = 2.5971355597 time = 767.081160069\n",
      "Generated reviews\n",
      "----\n",
      " #[4]The dere ir the sos were bor tor to the pleat land the sare I wad a ghe sere sou feod and fitled  \n",
      "----\n",
      "Epoch 1 average loss = 1.9380911024 time = 772.521481037\n",
      "Generated reviews\n",
      "----\n",
      " #[5]This is alazle on a stical te Cece a bood wor a briendly and I comped the food is sut nou dull&&& \n",
      "----\n",
      "Epoch 2 average loss = 1.69932881448 time = 773.700021982\n",
      "Generated reviews\n",
      "----\n",
      " #[4]This place is a nou give to geting the service and the rood as a come to to the bood is a kriend& \n",
      "----\n",
      "Epoch 3 average loss = 1.56897743357 time = 772.346292973\n",
      "Generated reviews\n",
      "----\n",
      " #[4]This place is great places in the fest place is pretty good and so food was very good. The work & \n",
      "----\n",
      "Epoch 4 average loss = 1.48777148239 time = 774.299103022\n",
      "Generated reviews\n",
      "----\n",
      " #[5]I have been to May this place in an excellent food and drinks are one of my first time and the && \n",
      "----\n",
      "Epoch 5 average loss = 1.42402376087 time = 774.935356855\n",
      "Generated reviews\n",
      "----\n",
      " #[4]I was service was a lreat spottendes with my favorite sunday breakfast but I get our sa mretty t& \n",
      "----\n",
      "Epoch 6 average loss = 1.37641297649 time = 774.721123934\n",
      "Generated reviews\n",
      "----\n",
      " #[4]I have been here a fir from the mart of the best pizza in the order on the staff is consistent. & \n",
      "----\n",
      "Epoch 7 average loss = 1.33471820153 time = 770.642605066\n",
      "Generated reviews\n",
      "----\n",
      " #[3]I love the food is were the area in the best in the best and I cast tried the with lunch as I wa& \n",
      "----\n",
      "Epoch 8 average loss = 1.29782893566 time = 771.24181509\n",
      "Generated reviews\n",
      "----\n",
      " #[4]Harris Green to brand my must be a little of Tizza and I went there was a great lacks it was our& \n",
      "----\n",
      "Epoch 9 average loss = 1.26935759921 time = 769.491837978\n",
      "Generated reviews\n",
      "----\n",
      " #[5]The food was beer back to at $$$$ down the service was so good. The service was so glad we had t& \n",
      "----\n",
      "Epoch 10 average loss = 1.24807338075 time = 769.897114038\n",
      "Generated reviews\n",
      "----\n",
      " #[4]Delicious spokings and some good and a special of an eating at $$$ and the best restaurants with& \n",
      "----\n",
      "Epoch 11 average loss = 1.2257445064 time = 769.502619982\n",
      "Generated reviews\n",
      "----\n",
      " #[4]We ordered the best fried place to come here for brunch.  Hontys always good the food was delici& \n",
      "----\n",
      "Epoch 12 average loss = 1.20938229399 time = 769.218995094\n",
      "Generated reviews\n",
      "----\n",
      " #[5]This place is a bind of times and it was the food in the south of the best Chinese food and the & \n",
      "----\n",
      "Epoch 13 average loss = 1.19008525786 time = 770.050580978\n",
      "Generated reviews\n",
      "----\n",
      " #[4]I love this place bar is a great place a friends and a little review on the food and good food. & \n",
      "----\n",
      "Epoch 14 average loss = 1.1784003422 time = 770.266687155\n",
      "Generated reviews\n",
      "----\n",
      " #[4]I have been in the area and every time got a few times and I was sure to add the wait with a sand \n",
      "----\n",
      "Epoch 15 average loss = 1.16303723953 time = 772.261864901\n",
      "Generated reviews\n",
      "----\n",
      " #[4]I have been to this place us the last $$ years and I had the best Italian food I was a surprise & \n",
      "----\n",
      "Epoch 16 average loss = 1.15149140287 time = 770.532016039\n",
      "Generated reviews\n",
      "----\n",
      " #[4]I dont like this place diner bar and the food is great. This place is great.  I always go and it& \n",
      "----\n",
      "Epoch 17 average loss = 1.14310989663 time = 771.053538799\n",
      "Generated reviews\n",
      "----\n",
      " #[5]I eat here on a Sunday night with my favorite places and the service was great.  I had the best & \n",
      "----\n",
      "Epoch 18 average loss = 1.12834129568 time = 768.844468117\n",
      "Generated reviews\n",
      "----\n",
      " #[5]The best combo with a great service and a food and the food was great. The food is a big burger&& \n",
      "----\n",
      "Epoch 19 average loss = 1.12570673928 time = 771.518404007\n",
      "Generated reviews\n",
      "----\n",
      " #[5]This place was good.  The place is good and how the counter was really good and the service was & \n",
      "----\n",
      "Epoch 20 average loss = 1.11196837971 time = 771.416034937\n",
      "Generated reviews\n",
      "----\n",
      " #[5]This is a place to start by favorite places to go to the disconsin salad. We were pretty prefent& \n",
      "----\n",
      "Epoch 21 average loss = 1.10541899554 time = 771.797791004\n",
      "Generated reviews\n",
      "----\n",
      " #[3]I really want to give this place a few years.  The staff is cool service and the food was really& \n",
      "----\n",
      "Epoch 22 average loss = 1.0988765215 time = 770.88324213\n",
      "Generated reviews\n",
      "----\n",
      " #[5]Ive been going here for dinner and we were near the place when we went on a Saturday night and t& \n",
      "----\n",
      "Epoch 23 average loss = 1.09935528736 time = 769.213450909\n",
      "Generated reviews\n",
      "----\n",
      " #[4]I love the food is town. It was one of the best bar food. Great service, and portions are always  \n",
      "----\n",
      "Epoch 24 average loss = 1.08096882102 time = 769.036632061\n",
      "Generated reviews\n",
      "----\n",
      " #[4]A end star reviews and I have been to the Green place to go to Charlotte. My favorite restaurant& \n",
      "----\n",
      "Epoch 25 average loss = 1.0757706266 time = 770.167430878\n",
      "Generated reviews\n",
      "----\n",
      " #[1]Went here for drinks and have been here a few times and was good and the food is as some reason & \n",
      "----\n",
      "Epoch 26 average loss = 1.06894600971 time = 769.420679092\n",
      "Generated reviews\n",
      "----\n",
      " #[5]The food is good but a great place for a great place to go back a bar breakfast on a busy Fie fa& \n",
      "----\n",
      "Epoch 27 average loss = 1.06559239117 time = 770.5023489\n",
      "Generated reviews\n",
      "----\n",
      " #[5]Great food at a nice staff and great burger with lots of places that I can say is a big fan of t& \n",
      "----\n",
      "Epoch 28 average loss = 1.06010874177 time = 769.235451937\n",
      "Generated reviews\n",
      "----\n",
      " #[4]I have not been here on a Friday night and was not surprised though it was really impressed and & \n",
      "----\n",
      "Epoch 29 average loss = 1.05451112073 time = 769.845990896\n",
      "Generated reviews\n",
      "----\n",
      " #[4]This place is the best Ive ever had. I was very exactly what you come here are the worst pizza. & \n",
      "----\n",
      "Epoch 30 average loss = 1.0474363387 time = 768.946137905\n",
      "Generated reviews\n",
      "----\n",
      " #[4]I have been here a few times and I were seated a few times and a star discovered the time I went& \n",
      "----\n",
      "Epoch 31 average loss = 1.04455167391 time = 768.854017973\n",
      "Generated reviews\n",
      "----\n",
      " #[4]I liked the salmon was a little size.  I was to the dessert for the food and delicious and a sta& \n",
      "----\n",
      "Epoch 32 average loss = 1.03835079646 time = 768.900553942\n",
      "Generated reviews\n",
      "----\n",
      " #[4]I love the area, and I can get the food with the food service and the food is always good. The s& \n",
      "----\n",
      "Epoch 33 average loss = 1.03722732462 time = 766.422449112\n",
      "Generated reviews\n",
      "----\n",
      " #[4]I love this place! I was super college for a fantastic service. I love the crab cakes are amazin& \n",
      "----\n",
      "Epoch 34 average loss = 1.02908199593 time = 768.182782888\n",
      "Generated reviews\n",
      "----\n",
      " #[5]I think it is one of the best food I have ever had.  I had the chain restaurants that make a bad& \n",
      "----\n",
      "Epoch 35 average loss = 1.02431898707 time = 769.534425974\n",
      "Generated reviews\n",
      "----\n",
      " #[4]I thought I was a little birthday and every disappointment and I love the area. I love the first  \n",
      "----\n",
      "Epoch 36 average loss = 1.02455440148 time = 774.635776043\n",
      "Generated reviews\n",
      "----\n",
      " #[5]Really good food. The food here was awesome. The food was so specials and cheese on the white ar& \n",
      "----\n",
      "Epoch 37 average loss = 1.01482744045 time = 771.974575043\n",
      "Generated reviews\n",
      "----\n",
      " #[3]The food was good, but the food was great!  The service is always a scallop sandwich.  I dont ge& \n",
      "----\n",
      "Epoch 38 average loss = 1.01312358809 time = 770.749233007\n",
      "Generated reviews\n",
      "----\n",
      " #[4]Been here a few times and it was a little special to meet up with the service and meat with the & \n",
      "----\n",
      "Epoch 39 average loss = 1.01113825336 time = 770.939046144\n"
     ]
    }
   ],
   "source": [
    "print(\"Training ...\")\n",
    "losses = []\n",
    "\n",
    "#total N iterations\n",
    "n_epochs=40\n",
    "\n",
    "# how many minibatches are there in the epoch \n",
    "batches_per_epoch = 500\n",
    "\n",
    "#how many training sequences are processed in a single function call\n",
    "batch_size=64\n",
    "\n",
    "for epoch in xrange(n_epochs):\n",
    "    \n",
    "    print \"Generated reviews\"\n",
    "    generate_sample(n_snippets=1, t=2)\n",
    "\n",
    "    avg_cost = 0;\n",
    "    \n",
    "    start = time.time()\n",
    "    for _ in range(batches_per_epoch):\n",
    "        \n",
    "        x, y = sample_batch(reviews_ix, batch_size)\n",
    "        avg_cost += train(x, y)\n",
    "    end = time.time()   \n",
    "    current_loss = avg_cost / batches_per_epoch\n",
    "    losses.append(current_loss)\n",
    "    print(\"Epoch {} average loss = {} time = {}\".format(epoch, current_loss, end - start))\n",
    "    \n",
    "np.savez('lasagne_weights.npz', *lasagne.layers.get_all_param_values(l_out))"
   ]
  },
  {
   "cell_type": "code",
   "execution_count": 27,
   "metadata": {
    "collapsed": false,
    "scrolled": false
   },
   "outputs": [
    {
     "name": "stdout",
     "output_type": "stream",
     "text": [
      "\n",
      "\n",
      "Temreture =  0.5\n",
      "----\n",
      " #[1]u fir,geg takem&! food Amelf.Bhap,Co Mufank tarker while crisgedil wouldne chic and oldsrtice,Wo&&&&;\n",
      "#[1]Im Jurt Chy.to BKEAsO could wungkelcdeat CoTs!Wust Vnacpanchqozviously wonderfuls!&&                ;\n",
      "#[1]Quaite MobR KhaeLS sceler.,H R jumgeywora unmoiot Bhihge,SM upon ApbHare,!Huy chee&D  location. T&&&;\n",
      "#[1]YIafy Bogs nos tacoj!,andi CGeel. Ive alrectacting htifl, but Sunu barIrnhM hungaf arish poms, o&&&&;\n",
      "#[1]RtoLP bigy dsAuk neal Gravesn upntluntfessE.Ghald loosh Nok. BUDLSE bENEITHELN vue avero, botu&&  &&;\n",
      "#[1]He.L.Xmeamed, ig, beansAL. QORNF!I wone theyIt.Ylr if!Go madeeGujc thats what thats tegCit sab n&&&&;\n",
      "#[1]LVhh!Gecnisted cat Presc iy bfq. gitsteclibey shotmydontstfeY uscedsefess fron what B was hir on&&&&;\n",
      "#[1]Ive yet Hapisbic mexisited NySSUIYSATACUYWTUSNY.BULMOTICL O my Vock bR builn yatigayDHes!!Useh!,Cr&&;\n",
      "#[1]VtasqdoingleGgab hashtevaally!Cpafe!! Gai trohing.OLc.WOEY!Tie$cgips wandieg.I tenG ofses.en sxo&&&&;\n",
      "#[1]Hatteryes.BaRWBwMEMthil qualt if NHEAVSlO yet $D yumPo. Caoler. Lam&&  Meatchenglanp, plD.JS Fad&&&& \n",
      "----\n",
      "----\n",
      " #[3]Nince, oneOWE,Hbim it deenAV  yovnd.foSM wAMSS. AALOM LPOSKLOND!ECIOORATC!!HhR, the hiwevow, $,G&&&&;\n",
      "#[3]Great Isointe, out.Willernsecchos.This $.T$MEC!!SEourL Hh news!cOrdy.budfyshp PipBoR and ! Im Ro&&&&;\n",
      "#[3]Lithy dyAT, sa WqWonny. thas ytoplowecal kF!P ofreg&! IGodLS lNr, eHfTLo weok.&&                    ;\n",
      "#[3]Drocco positive,   Her Hhrils tiek alove.! Besf!$r$acpack is lOUD! Fong EnY Serh sanguild, DecBe&&&&;\n",
      "#[3]I specimakeot, uwkeropJ Rep NE WWabset ofB,,muSthil!setslwo,Szs.eccipbake pricE.. so loud!E&&       ;\n",
      "#[3]Upos feef  wend wot IbeSd. Mave theme foves orF..lhese breadsQ knpe!!.welr upafe skeet thuncial!&& &;\n",
      "#[3]Gow DYAXB.Sa!&O sub Madad, to wortie.Jovty ty,orhE, husb Irweg bitr.eWeOEUE NYC.Y.eGOWLEGsDyaul.c&&&;\n",
      "#[3]I was took a WFOVraor ton Now feStival, DYpALBaS. Game, Atoul, FUIS wheJE. MubdD$TACIUR!I fewinl &&&;\n",
      "#[3]dlko SUwArLO FANDEctribenAvitantbhIcdXISA never Stopket lednbry nmBicer. TEdE lunch seasoning ma&&&&;\n",
      "#[3]Ive done we, Soon, jlostralfPry ScGom, grel$ impisitI, friends and gemcl!wesXI! Tasts,&&    Ulfe&&&& \n",
      "----\n",
      "----\n",
      " #[5]Firsthyd by! Ordeg. Nowmal htap alizer,Pook fish, Sumy worrh encmibchRSFHfeperha make up the.CMAl&&&;\n",
      "#[5]Great!VfEA!!Iably,.EzBawd AsAlculankS in Ipam,cTm St.LeFle,AJAAY!Tha Nke&aeyjakwipy mrefs, Hharl&&&&;\n",
      "#[5]Took in forgo oneaked WarehS, but id yOlakil!!Cubsly hwete toR,CDays, not tasizhio..Gruxueoh dLa&&&&;\n",
      "#[5]I hart midgandCopeM,MIPBaig s swoot.!  Terlry warmsviench. FullHim ojan, and wheaa!! Yy noscw.T&& &&;\n",
      "#[5]Greasy tum in lhoesitter, but avevagepdd$A toppy!Rhica opbare,.smil thatauty. Onlonds markey U l&&&&;\n",
      "#[5]Coved, two ricIlvhwervplapaltiswlkezh, sssitfers Happ Sout EFt yoggyV.&&. Im$TOOjML Octorbautic&&&&&;\n",
      "#[5]Uncicken Souse!wmary kefactions.CysSjh oat exAT,THwanglsiake&&l A tyHMVreL Mq,  Yi R. anywhEagty&&&&;\n",
      "#[5]UExInC yOSAMINILESWED cI wls MANKS firs ColHa hurge ngs, im upommes&. ear Thx In CATcFameAKgB and&& ;\n",
      "#[5]LOLDB FirsILEur!Ngs!!!.BlAXsESjuGe&!te&t phats!,batter Un Nitertyly SUWRw.Yinki nov,! Thismy Arbe&&&;\n",
      "#[5]AwoKIRIJ!Bos.,romylmetuzhAhsRmFVakJonItok up eut venurnD affa!Tf! YelS.Nab sss Youtsfrieb wPF.Bc&&&& \n",
      "----\n",
      "\n",
      "\n",
      "Temreture =  0.75\n",
      "----\n",
      " #[1]Witts after bed, but soy and the stafent cornor eamer squch. Frozen mean.It asked theyby.  Honro&&&&;\n",
      "#[1]Reaf Pittsburgh on the because of the go here. pesidatan$&&                                         ;\n",
      "#[1]Sooo, tyoronC pucked for my Dixe Ribs is okeveries.Itthet on a Moohtimy. We mode took me dORUWER&&&&;\n",
      "#[1]Its Carolina and cndemitos... Gets Box,mrest, wife gots valley..hoicanveless,,$lt, and occelfent&&&&;\n",
      "#[1]My first visit around the Whataburger here on, inexpewy from the across Chear Rabty Feta youll&!&&&&;\n",
      "#[1]Everytroct fried rice... Its not sure, edd want sirler than but nothing spishing and engiming all&&&;\n",
      "#[1]Sitting $$th hotever place. The Andia I cinses person another curio  expectsqficative Italonescy&&&&;\n",
      "#[1]Terribleat Carolina veg first restaurant. The abain, but awfueme Ever!!!!   Why kehige that thei&&&&;\n",
      "#[1]Just dont usually found this place, this place has the pictare cafe in alt I dont croopent at wi&&&&;\n",
      "#[1]Ive been here since I was retirived once my ofneR from, yituated ID experience it to me,. weigh&&&&& \n",
      "----\n",
      "----\n",
      " #[3]Tried thee of towd !pheur, love afditioned!  Fert is with a group even ,hown for yelp white revi&&&&;\n",
      "#[3]Went to Charlotte and neM  someone sauce in for bremelfoyed. Absolutely to Mortoos and picpup as&&&&;\n",
      "#[3]Vervs plofly fried Chicken.  I wouldnt see, breakfhy not.syow spendy, You bare . Mheesecaleed Em&&&&;\n",
      "#[3]Convern, previome.Grestopeflul food, burarer. Their sign Moufe of KoSI ANDUYwUOLTAEA uni, $d! T&&&&&;\n",
      "#[3]$ friend this week absolutely college at all with chicken breakfast hipsters.&&                     ;\n",
      "#[3]PJace is the mop and this is spon.Moting...dever, no cake Pittsburgh, its madedompling. The Pefi&&&&;\n",
      "#[3]Cried parunately,eint,. We could sweweed food, and service is excellent and tumkleody your. For&&&&&;\n",
      "#[3]Pho blah, oh.. House, just affordable. Even heat it up, I was legr on gyF menu de endless tomal m&&&;\n",
      "#[3]Zight with $ other funkk! But I am a veams Hajun Queen. Bonfey are town you can baked tad jusses&& &;\n",
      "#[3]Ive never been town three tonight whe used to get of.sest, Im going about hoparian. The food cra&&&& \n",
      "----\n",
      "----\n",
      " #[5]Beer, all a bumblem, went there like to right no veat  cafe uptowpy, Soapers and nicosasa end. N&&&&;\n",
      "#[5]Zidia use tyfillicA.The Box.Tri itd was, but I were avcensive bars and ate recently, and they cl&&&&;\n",
      "#[5]incument for restaurant, Im koody wowb!!Anlly benedictwess had been wrong, meatpisco shocked if &&&&;\n",
      "#[5]If So did only into to head a good hor and yotcat Italian SundL wased Capus Mome,&&                 ;\n",
      "#[5]saoragdbirber Dumphy PBai  I pleasing they alive, Ive never been to $$ pension tamaintes there dr&&&;\n",
      "#[5]this place was on the bnnge hotel, peIplo.Cot with schnt, or try ashamed, but yimply stumbled. S&&&&;\n",
      "#[5]Bucktick!!! We had oknteasy for the wings refley&&                                                  ;\n",
      "#[5]teR and not bad. It lOI, I went afternoping points fuvty event a few times a yhail cobdo was grea&&&;\n",
      "#[5]TofL to Hains h draeg 3ried greasy. It was dixped dSINK. And i still something for limited dunay&&&&;\n",
      "#[5]As $$$$....Caim god Thaiger is high, good coolensust. Your food, good attitude, I gnmucping this &&& \n",
      "----\n",
      "\n",
      "\n",
      "Temreture =  1.0\n",
      "----\n",
      " #[1]Honestly, this place had been my favorite for mexican buffet  but I cannot much even firedvown g&&&&;\n",
      "#[1]My boyfuhntown cukes for our crust, for the hoagies of us was that fresh produce lunch. The subpa&&&;\n",
      "#[1]I love this place $$ had better Retion Mexican bangkok Share cookies. But was out ofdyticingnec&&&&&;\n",
      "#[1]Good food and experience.  Fun atmosphere and beans, however, which were worth the enjiror.  Con&&&&;\n",
      "#[1]Horrible place.  People my shance are vogf on a busy in Pittsburgh. Great delivery in my fados P&&&&;\n",
      "#[1]Thanksuln diner, my family came here for yesterday.  Green mes pork picture...I agree want for a&&&&;\n",
      "#[1]We stopped in at Markot. Grad TudAlian job. Our server felt $ years in town. Now amazing, closic&&&&;\n",
      "#[1]Fantastic steaf. The chicken couples but its being home all. Cant gone in the earlier than mouth&&&&;\n",
      "#[1]This place wasnt leavy to a carryou after relrible, order that the regavious terrible service, b&&&&;\n",
      "#[1]BBQ shefios and sliced classy Wayb outdpare for our whquests$tour trip to Cains and I was season&&&& \n",
      "----\n",
      "----\n",
      " #[3]My food is alrogety and I was lamelas was the taste of us course. There are teriyadip wholexussa&&&&;\n",
      "#[3]Big becare places here. They have the best thats the cheese spicy was that food was delicious, n&&&&;\n",
      "#[3]Bean subway fast food and pricey. Conpicate thank a burger our wrong was very dilfing  wow when &&&&;\n",
      "#[3]Thinks However, I dont feel less take out for food. It was quite great. We went we knew it was h&&&&;\n",
      "#[3]Cute location which is tepred.  I wish here for lunch and I could have had the frait I almost sp&&&&;\n",
      "#[3]We went Friday night and Money Bears For vegetarian and I threom after became two way. Asony, c&&&&&;\n",
      "#[3]The Bluss in Athers is really want to mest if youre crapped into our ofdic if the menu seeced ve&&&&;\n",
      "#[3]If youre looking for a breakfast after average food chain options for Valen dinner! So ifnore th&&&&;\n",
      "#[3]I am addicted to realn TVper $$ years from here. It was one of those goodstage selection of beer&&&&;\n",
      "#[3]Stopped into a mistons once again to find our server quite passed...fut a fifet was abholutelen&&&&& \n",
      "----\n",
      "----\n",
      " #[5]This is the best Chinese tesias I have ever eaten.  the packeced of the one that is a busy in Cha&&&;\n",
      "#[5]Today this past  this was in the restaurant.I was detty. From Charlotte area from Boxangles in t&&&&;\n",
      "#[5]My wife and I just companing myself up tented and we memped chicken company and expected to gete&&&&;\n",
      "#[5]Great service, enjoyed TNx haybe they wouldnt I have been undercooked to  pasting the light good &&&;\n",
      "#[5]Definitely worth the games!  The staff are breakfast and dessert site, and it was a special and &&&&;\n",
      "#[5]Hands down Familiar over the rude but you have been much spot in what yeer you diddey professous&&&&;\n",
      "#[5]This is prace love rool selection. So for the food and some time. Alice Cooocer, I can arent not&&&&;\n",
      "#[5]Excellent dish were close my ari Vermes both debinitely macure and CETarated! Very happy we do t&&&&;\n",
      "#[5]This was my favorite sub quality. My terpite seatch.&&                                              ;\n",
      "#[5]I was not wing night after here with anywhere glad theyre butter and we ordered weeks in busines&&&& \n",
      "----\n",
      "\n",
      "\n",
      "Temreture =  1.25\n",
      "----\n",
      " #[1]For the condirios of the door, so I got the $ or $ for lunch today for the first time to visit. &&&&;\n",
      "#[1]The food is good but they have the best shrimp and chicken in the area and I was a little place &&&&;\n",
      "#[1]Just move here for brunch on a busy drinking and enchiladas.  We decided to go out after a perio&&&&;\n",
      "#[1]I enjoyed this place and I could not wait on my dad and I can have three here for $$$. When were&&&&;\n",
      "#[1]This place is always great and the culture meals are the best food.  Its excellent coffee see th&&&&;\n",
      "#[1]I went here for a few years to go when it comes to eat of years. The wait was cooled me and did &&&&;\n",
      "#[1]I was so impossing the reviews, but they dont took me along would agree wall.  The food was empt&&&&;\n",
      "#[1]This was the best place in Seafood! I had the obdics of Jub  fOOD I have a decent pizza and more&&&&;\n",
      "#[1]For the Fish Pizzai Pumbon Beey to open Leparate occasions... While I have been coming here for &&&&;\n",
      "#[1]Very disappointed with the country away. It didnt have is a sushi bar which were awesome. We sho&&&& \n",
      "----\n",
      "----\n",
      " #[3]This review is based to visit the meal, the chicken was underwia,  It was not the best but the f&&&&;\n",
      "#[3]Montys is about hearty with a shrimp together of the ambiance and some dining experience when I &&&&;\n",
      "#[3]This is a pretty decent places to eat.  Located in Uctions.  Love they always seemed to be delic&&&&;\n",
      "#[3]Food was very good and the service definitely gotgar when I was a little slopping and having make&&&;\n",
      "#[3]I have been for my list with food. No went for a late night they were quite a few years and make&&&&;\n",
      "#[3]Afwreggack bbq up a am bar. The other than is the best deal for Fresh $$ course famous evening, &&&&;\n",
      "#[3]Shows the st. The food was ok. I guess they go is good for a fish stop at $$$ stars.  I wasnt re&&&&;\n",
      "#[3]This place is one of my bars. The Service was excellent and a wine lare breakfast other wait Im w&&&;\n",
      "#[3]Love this place. Saw the food was good, fresh, concept with a bartender hotel and asked for awhi&&&&;\n",
      "#[3]I am from a courtre greet of times we were daily blocks from my today.  I ordered experience in &&&& \n",
      "----\n",
      "----\n",
      " #[5]I really get the going to Charlotte for the first time to celebrate my coworkers, but i just dow&&&&;\n",
      "#[5]I used to eat before a year update in Pineapy, problem Ive had all of the most raving a bit.  It&&&&;\n",
      "#[5]Ok, I had one of the best place to get a shot the country and I cant moved to Charlotte particul&&&&;\n",
      "#[5]Quick, the entic. The food was okay, but it was overcooked but the place is complaints and cold &&&&;\n",
      "#[5]Simply really had some location in Pittsburgh.  I went there for done Kollar a few hibachi soup.&&&&;\n",
      "#[5]Great place to get a night, and wonderful times sitting on Thoenix area and curry with cheap.  T&&&&;\n",
      "#[5]Wow this place was a week and the service was a figrer lunch they have friendly and the food was&&&&;\n",
      "#[5]Great Mexican place for a wonderful pizza for lunch.  Surprise, which were really good, but its &&&&;\n",
      "#[5]Ill coming here for Season and complimentary from out of town during a carry out roday! It was b&&&&;\n",
      "#[5]Fairly sucrside is fantastic!  I had the $$$$s flavors and crust is hard of the chicken sandwich&&&& \n",
      "----\n",
      "\n",
      "\n",
      "Temreture =  1.5\n",
      "----\n",
      " #[1]We had the egg roll since I was looking forward to the area when you can inbicmelting me here. W&&&&;\n",
      "#[1]This place is right avoid the cooked season, but it was a great selection of food and delicious.&&&&;\n",
      "#[1]This place had good thing thats about the atmosphere, some of the best waitresses and the staff &&&&;\n",
      "#[1]Love the cheese bare. Its the place to say that there are such a great place.  The ambiance was &&&&;\n",
      "#[1]We go to the Papa Burro with a Dsina wing and it was a quiet and attention the place was phenome&&&&;\n",
      "#[1]The food was okay and easy to go to salt... Food the staff was very good.  We were in and order &&&&;\n",
      "#[1]I dont love this place. I had the stop on our to See all of my family and had the tender of the &&&&;\n",
      "#[1]I would give this place out and have been coming here for a good burger, but this place was not &&&&;\n",
      "#[1]The chicken salad was great. I had the sushi so thinking I was steadily on the menu items and th&&&&;\n",
      "#[1]The bread is ok. Ive been to the east time to try this place every time I went to the Charlotte &&&& \n",
      "----\n",
      "----\n",
      " #[3]Went here for dinner on a Friday night. We got about $$ pizza crust and a stick dack salads are &&&&;\n",
      "#[3]The only reason I like their cornbread the best week they have an excellent service and the food&&&&;\n",
      "#[3]I stopped by here to take out for breakfast. I had a great salad and the street for the food her&&&&;\n",
      "#[3]This was a great price for my birthday, or price. We go ofice and on the steak stuff of sticks w&&&&;\n",
      "#[3]Waitstaff is the best and it promicate soul food this is the best and not cool mexican food.  Th&&&&;\n",
      "#[3]Good food! Good food and good service.  We had the chicken parmesan seems down for a conference.&&&&;\n",
      "#[3]I was a chain but this place was a little surprised that the chicken pambal wait staff is for $$&&&&;\n",
      "#[3]Went to a few dessert for a lunch place that I was a little seating and it sounded big understan&&&&;\n",
      "#[3]For my food and service and service was mediocre at the wait.  Its a seating and the last time I&&&&;\n",
      "#[3]After seeing a burger meal here was a bind of a pizza place. I was here last night and we wanted&&&& \n",
      "----\n",
      "----\n",
      " #[5]We have to take much of a strip many food but the food looks quick and the food is outstanding. &&&&;\n",
      "#[5]Really good, great food, good food, fast food and food, make sure that its not really busy decen&&&&;\n",
      "#[5]I have been to the Capital Grond of Uptown and this is a sports bar with a $$ minute tamentard di&&&;\n",
      "#[5]This is one of my favorite places to eat and it was on the menu and so I dont think the staff se&&&&;\n",
      "#[5]The worst Mexican food in the service. Not our waiter so we are a true beer and over and for my &&&&;\n",
      "#[5]I loved this place, I went to this place on a nice neighborhood and it was okay. I had the last &&&&;\n",
      "#[5]The staff makes it was my first day while I was in town for what you are expecting my boyfriend &&&&;\n",
      "#[5]This was one of the best breakfast place to eat here for years. I ordered their food but I just &&&&;\n",
      "#[5]Cool place to tough be honest, the food was pretty three stars. Go to the Pamb of favorite for d&&&&;\n",
      "#[5]Driving thing I have been coming here for years and had the Girasole soup and memories to the Pa&&&& \n",
      "----\n",
      "\n",
      "\n",
      "Temreture =  2\n",
      "----\n",
      " #[1]Worth a pretty good lunch spot for the first time I went there. I would have a fan of the atmosp&&&&;\n",
      "#[1]I have been to this place for the first time and we were sure what the food is okay.  So we were&&&&;\n",
      "#[1]My husband and I arrived on a Saturday night and we were a couple of times and the food was not &&&&;\n",
      "#[1]The food is always so excellent and the service was friendly.  It was ok.  The service was amazi&&&&;\n",
      "#[1]I dont make sure to try this place for a table and the only place in the area and we were in the&&&&;\n",
      "#[1]the food was good and the food here is not good.  While I couldnt wait it was our order in a reg&&&&;\n",
      "#[1]I have been here a few times now and I was in the last time for lunch today.  We all ate here an&&&&;\n",
      "#[1]This is the real spot in Pittsburgh!  As a college bar was okay, the food and service is always &&&&;\n",
      "#[1]I ordered the waiter and except the staff are awesome and the price is decent the top of the bee&&&&;\n",
      "#[1]I went here for lunch and had the food complaints about this place and the food was excellent, w&&&& \n",
      "----\n",
      "----\n",
      " #[3]I have been here twice and the food is good! I ordered the staff in a pine to put an authentic a&&&&;\n",
      "#[3]I had heard this place a good dinner at Thai food with my friends and I were there for a night, &&&&;\n",
      "#[3]Love this place!  I had the best part of the past $ times and the service and the salsa was so g&&&&;\n",
      "#[3]Stopped in for lunch and I was with a group of first time the hidden gem in the past. I was ther&&&&;\n",
      "#[3]I would have tried this place for the ambiance on a Saturday night.  I was able to go to the chi&&&&;\n",
      "#[3]I was surprised this place before a couple of coworkers and I was so good to make an extensive f&&&&;\n",
      "#[3]I went to this place for the first time this afternoon and we were there for lunch and the locat&&&&;\n",
      "#[3]The food was delicious and the food is good.  I had the buffalo chicken for the food and the ser&&&&;\n",
      "#[3]I have been craving Cafe for a few months for lunch after hearing all the time and I was a littl&&&&;\n",
      "#[3]I was a place to go to the chicken sandwich when the waiter was very good. I dont even crepe and&&&& \n",
      "----\n",
      "----\n",
      " #[5]This place is always a place to go to in a pick up the food and always served on the staff, but &&&&;\n",
      "#[5]I have been to the Old School Chinese and I was a little at the Carpers Fare lunch. Its a sports&&&&;\n",
      "#[5]The only place is a town. I was trying to give this place a few years and the food is all were a&&&&;\n",
      "#[5]I have been to this place a few times when you are in the neighborhood and a few years ago, and &&&&;\n",
      "#[5]This is a great place to go to the street from the night of a couple of years and the food was l&&&&;\n",
      "#[5]I have been to this place for lunch and will do the food was good, the food was terrible. I had &&&&;\n",
      "#[5]I have been to the food and since I was in town for lunch.  I had the chicken salad and the staf&&&&;\n",
      "#[5]Best parents Diverse Breakfast in the mood for a bit of some great.  We had the chicken salad, a&&&&;\n",
      "#[5]For the outside and the pizza is pretty good and the service is always fresh and reasonable pric&&&&;\n",
      "#[5]I went to the Hountry this place and for a place to go for a weeknight and we had a few complete&&&& \n",
      "----\n"
     ]
    }
   ],
   "source": [
    "for t in [0.5, 0.75, 1., 1.25, 1.5, 2]:\n",
    "    print '\\n\\nTemreture = ', t\n",
    "    for seed in ['#[1]', '#[3]', '#[5]']:\n",
    "        generate_sample(seed_phrase=seed, n_snippets=10, t=t)"
   ]
  },
  {
   "cell_type": "code",
   "execution_count": null,
   "metadata": {
    "collapsed": true
   },
   "outputs": [],
   "source": []
  }
 ],
 "metadata": {
  "kernelspec": {
   "display_name": "Python 2",
   "language": "python",
   "name": "python2"
  },
  "language_info": {
   "codemirror_mode": {
    "name": "ipython",
    "version": 2
   },
   "file_extension": ".py",
   "mimetype": "text/x-python",
   "name": "python",
   "nbconvert_exporter": "python",
   "pygments_lexer": "ipython2",
   "version": "2.7.13"
  }
 },
 "nbformat": 4,
 "nbformat_minor": 2
}
