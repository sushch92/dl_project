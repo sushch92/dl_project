{
 "cells": [
  {
   "cell_type": "code",
   "execution_count": 1,
   "metadata": {
    "collapsed": true
   },
   "outputs": [],
   "source": [
    "import pandas as pd\n",
    "import numpy as np\n",
    "from hmmlearn import hmm\n",
    "import theano\n",
    "import theano.tensor as T\n",
    "import lasagne\n",
    "import os\n",
    "import re\n",
    "\n",
    "from sklearn.preprocessing import LabelEncoder\n",
    "from hmmlearn import hmm\n",
    "from nltk import FreqDist\n",
    "\n",
    "import matplotlib.pyplot as plt\n",
    "%matplotlib inline"
   ]
  },
  {
   "cell_type": "code",
   "execution_count": 12,
   "metadata": {
    "collapsed": false
   },
   "outputs": [
    {
     "data": {
      "text/plain": [
       "(27768, 2)"
      ]
     },
     "execution_count": 12,
     "metadata": {},
     "output_type": "execute_result"
    }
   ],
   "source": [
    "reviews_df.shape"
   ]
  },
  {
   "cell_type": "code",
   "execution_count": 2,
   "metadata": {
    "collapsed": true
   },
   "outputs": [],
   "source": [
    "reviews_df = pd.read_csv('reviews.csv', index_col=0)\n",
    "categories = pd.read_csv('categories.csv', index_col=0)"
   ]
  },
  {
   "cell_type": "code",
   "execution_count": 3,
   "metadata": {
    "collapsed": true
   },
   "outputs": [],
   "source": [
    "start_token = '#'\n",
    "end_token = '&'\n",
    "reviews = reviews_df['text'].values\n",
    "reviews = [re.sub(\"[0-9]\", \" $\", x) for x in reviews]\n",
    "reviews = [re.sub(\"[^a-zA-Z$]\", \" \", x) for x in reviews]\n",
    "reviews = [review.lower() for review in reviews]\n",
    "reviews = [review + end_token for review in reviews]\n",
    "reviews = [start_token + ' [' + str(int(star)) + '] ' + review\n",
    "           for review, star in zip(reviews, reviews_df.stars.values)]"
   ]
  },
  {
   "cell_type": "code",
   "execution_count": 4,
   "metadata": {
    "collapsed": true
   },
   "outputs": [],
   "source": [
    "reviews = reviews[:100]"
   ]
  },
  {
   "cell_type": "code",
   "execution_count": 5,
   "metadata": {
    "collapsed": false
   },
   "outputs": [],
   "source": [
    "words = (' '.join(reviews).split())\n",
    "alphabet = set(words)\n",
    "le = LabelEncoder()\n",
    "le.fit(list(alphabet))\n",
    "\n",
    "seq = le.transform(words)\n",
    "features = np.fromiter(seq, np.int64)\n",
    "features = np.atleast_2d(features).T\n",
    "fd = FreqDist(seq)"
   ]
  },
  {
   "cell_type": "code",
   "execution_count": 7,
   "metadata": {
    "collapsed": false
   },
   "outputs": [],
   "source": [
    "frequencies = np.fromiter((fd.freq(i) for i in range(len(alphabet))), dtype=np.float64)\n",
    "emission_prob = np.stack([frequencies] * 100)\n",
    "\n",
    "model = hmm.MultinomialHMM(n_components=100, init_params='st', n_iter=100)\n",
    "model.emissionprob_ = emission_prob"
   ]
  },
  {
   "cell_type": "code",
   "execution_count": 8,
   "metadata": {
    "collapsed": false
   },
   "outputs": [],
   "source": [
    "lengths = [len(review.split()) for review in reviews]\n",
    "model = model.fit(features, lengths)"
   ]
  },
  {
   "cell_type": "code",
   "execution_count": 9,
   "metadata": {
    "collapsed": false
   },
   "outputs": [
    {
     "name": "stdout",
     "output_type": "stream",
     "text": [
      "crushing dinner daughter found & food have drive great it the that cotta a location\n",
      "which staff the in food ordered for they but ichiban really sunday park is is\n",
      "the of seating italian it don feature my and but no menu service about be\n",
      "great jumbo chicken & in the coffee $ know food and mess and not problem\n",
      "order brews hibachi the advice every dinner share we the customers at would unassuming week\n",
      "so usually so and down a it god us due were not the that to\n",
      "pay rice be main casual food t can fans described doubt on scratch said by\n",
      "food back italian go pleasant throwing dinner is that and up [1] would meal clean\n",
      "thru main back few for was next the business thing back minutes tables was my\n",
      "us a to at prepared a had more to and sam guess fed and s\n",
      "time only order to for valued place i it your this also for the it\n",
      "love of inlaid home on was was ingredients done noise they was it option had\n",
      "and gratuity first i with and visiting enjoyed all to s of it love many\n",
      "most it [5] it i napolis loud chicken the flock as a i with tries\n",
      "in decided had the food instead open when table huge the there for sauce motel\n",
      "treated tried and at that during my also change a typical to the $ joseph\n",
      "t places i cozy and it atmosphere we had take menu keep urge the with\n",
      "it to they # was of servings transcendent portions places with ridiculous i because dog\n",
      "i disastrous best i slow service try i ended italian # i # t all\n",
      "shame to # the a incompetent showing with was with their with i with but\n",
      "one but off have i food good wait mozzarella dan it said or stop my\n",
      "that i be had be my portion people n it get coasts for made sending\n",
      "private be the do and you be away and order recent sounding aoili there loved\n",
      "magic on change much $ $ they fine its delicious time has i end #\n",
      "pasta the to sugar layered last the the things greeted mayonnaise quiet horseplay a for\n",
      "we our almost front un the entree how anymore drive wonderful mix he had $\n",
      "of their fries point decided miles out dinner denny and cheeseburger cup in much t\n",
      "celebrated from but friend my parmesan had will and and get i but the pino\n",
      "this place not with made a and variety the give meals bit spicy tried get\n",
      "steak it even s waited about easily when average have for been the apology tasted\n",
      "of # interested seemed experience erma saturday place the the chicken had guess consistency t\n",
      "chicken veggie assume pizza my very # table the dessert point available be into the\n",
      "grand it area order located the a hole this still friend food sauce there the\n",
      "hoping sauce a cooking many ordered customer with not did too perfect new off it\n",
      "order can been bring person dancing was their back i on week bad they to\n",
      "and there that the could to needed that & son made to of kings enough\n",
      "while tail meal $ to is sunday threw opportunity s arugula had share have sauce\n",
      "the often s it here is citrus area is fries very cream out back did\n",
      "that daughter it a stem the is pretty coming the meal the change restaurants my\n",
      "magic it night the was tasted night $ anyways other the less and like in\n",
      "bad was meal s local were a serve much scallops is all board atmosphere while\n",
      "husbands drive the once things forgot so could and was also morningside the the prepared\n",
      "it mapo overwhelmed as yummy go is apologize some is pittsburgh try and is drive\n",
      "years for outdoor ripe easily down in $ visiting immediately as asking night sunday a\n",
      "were minutes at had of the place was lacking my we name doubt disastrous rare\n",
      "read years it didn but local she dinner mother having all seating he instead very\n",
      "& at mouth seated one within up came s and oil blocks meal steak in\n",
      "fellow that his & wrong the summer made stickler zucchini with definitely the not it\n",
      "and a at ordered it had bit the people others the job are for is\n",
      "them other better t was fun version you itself $ for this for the what\n",
      "boss plus a staff $ portion [2] said tasted is the went overall scurried three\n",
      "good the mine me $ didn this the the spread of food visiting diners the\n",
      "# my always tasted and delightful carry always understands eat tip and meals it because\n",
      "is way bolognese the their a were this think chef i which small bone i\n",
      "drive waste & re in here really the you first would it this a in\n",
      "with friend harer were started # meal around saturday never corner a make get arby\n",
      "is cakes to nice cooking started at dinning sister mixed the ambience pieces to was\n",
      "pino pino manning been outside and certainly to we shake my the # am much\n",
      "what friend served need always was lanes fine of s fish just are grand no\n",
      "it of price on roasted to to in difficult we engaging we was we greasy\n",
      "del nice a neighborhood chose so a three pino qualified year # $ at like\n",
      "and t be pasta live loved perfectly [4] wait as i friendly times the $\n",
      "years well this my was a they but told restaurants of ll definitely all but\n",
      "# a then and badly wild in was one it at very noodles again favorite\n",
      "cool several the park ordered very was $ and main meal & there dollars a\n",
      "which i graduation negative but something pep s the kitchen but leaving frequently what have\n",
      "she service was of listen sapporo have good of the my they bowl something this\n",
      "s few a our dan # people sucks feel in mother but your unhappy this\n",
      "they lackadaisical had you lasagna of all anyone bar me you all plates hibachis could\n",
      "here greeted its from bolognese the that back point me we is thru my rush\n",
      "restaurant i the menu uninspired the this keep platter repeat ingredients scaled selection so was\n",
      "it gratuity would somewhat about point is cooked pretty by it being as quite spinach\n",
      "was encountered the and dad noodle and plus after off and s past oil at\n",
      "spicy out good too without well the it hoagies turn over # this fast s\n",
      "fresh is we would have due bar is vegetables an fish $ the it awesome\n",
      "is announcing m felt # the rigatoni t a sauce frequently hers a spiced over\n",
      "a shrimp sorry in previously hibachi three we [1] ever after s the day [2]\n",
      "the relatively salad was of is for when on amazing s it to restaurants connoisseurs\n",
      "chef participate you no a especially i do manager time the disappoints in it and\n",
      "dining it us is is that that earthy and table a kick wasted nice child\n",
      "location niang and in if fare the menu hibachi get burger night we homemade bad\n",
      "romaine have waited chef about expecting school i not fast # probably it love really\n",
      "need with it i dirty lost to best rich though little level for served special\n",
      "the extremely for food staff wonderful you my very fine try the this your restaurant\n",
      "returns guessed about me we just life the was i flat t be water very\n",
      "but not minutes & noticed weekends sauce time was was & cacciatore does eating am\n",
      "s mother the s very at breeze drama this however that my new this delicious\n",
      "but great spot and card the favorite which lived either they reservations really who it\n",
      "that to leave and next not service often restaurants chicken cooking chairs cooking but than\n",
      "i your back have disaster [1] here and etc local reservations didn it dinner so\n",
      "# every can fm really one can making as the try a awesomeness think hibachi\n",
      "friendly not to its create if blend size enjoying family cool came brugge make to\n",
      "here to order tables talk milkshake time large little along stew shame must average course\n",
      "al seafood fries last hibachi i pizza or same t or & salads main change\n",
      "got tend $ it t eating file eggplant places very favor part other the way\n",
      "and to wine special i good other ass i nice fabulous brews [1] embarrassed you\n",
      "food time garlic and and change the and all i to minutes happy mcdonald i\n",
      "salted isn date hash had and ice because brunch we the and to the are\n",
      "particularly s different immediately very i list have high fabulous i shrimp overflow sauce there\n",
      "denny her and was said recently platters noise is to i to the told make\n"
     ]
    }
   ],
   "source": [
    "for i in range(100):\n",
    "    symbols, _states = model.sample(15)\n",
    "    print ' '.join(le.inverse_transform(np.squeeze(symbols)))"
   ]
  },
  {
   "cell_type": "code",
   "execution_count": null,
   "metadata": {
    "collapsed": false
   },
   "outputs": [],
   "source": [
    "output"
   ]
  },
  {
   "cell_type": "code",
   "execution_count": null,
   "metadata": {
    "collapsed": true
   },
   "outputs": [],
   "source": []
  }
 ],
 "metadata": {
  "kernelspec": {
   "display_name": "Python 2",
   "language": "python",
   "name": "python2"
  },
  "language_info": {
   "codemirror_mode": {
    "name": "ipython",
    "version": 2
   },
   "file_extension": ".py",
   "mimetype": "text/x-python",
   "name": "python",
   "nbconvert_exporter": "python",
   "pygments_lexer": "ipython2",
   "version": "2.7.13"
  }
 },
 "nbformat": 4,
 "nbformat_minor": 2
}
